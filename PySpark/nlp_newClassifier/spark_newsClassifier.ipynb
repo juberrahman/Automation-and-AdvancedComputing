{
  "nbformat": 4,
  "nbformat_minor": 0,
  "metadata": {
    "colab": {
      "name": "spark_newsClassifier.ipynb",
      "provenance": []
    },
    "kernelspec": {
      "name": "python3",
      "display_name": "Python 3"
    }
  },
  "cells": [
    {
      "cell_type": "markdown",
      "metadata": {
        "id": "PMD9RXAwBx7W",
        "colab_type": "text"
      },
      "source": [
        "Juber Rahman </br>\n",
        "date: 08/27/2020"
      ]
    },
    {
      "cell_type": "code",
      "metadata": {
        "id": "PSEWQ1l11EKx",
        "colab_type": "code",
        "colab": {}
      },
      "source": [
        "from pyspark.ml import Pipeline \n",
        "from pyspark.ml.feature import CountVectorizer,StringIndexer, RegexTokenizer,StopWordsRemover\n",
        "from pyspark.sql.functions import col, udf,regexp_replace,isnull\n",
        "from pyspark.sql.types import StringType,IntegerType\n",
        "from pyspark.ml.classification import NaiveBayes\n",
        "from pyspark.ml.evaluation import MulticlassClassificationEvaluator"
      ],
      "execution_count": 3,
      "outputs": []
    },
    {
      "cell_type": "code",
      "metadata": {
        "id": "RQmblEO92_u7",
        "colab_type": "code",
        "colab": {}
      },
      "source": [
        "from pyspark.context import SparkContext\n",
        "from pyspark.sql.session import SparkSession\n",
        "sc = SparkContext('local')\n",
        "spark = SparkSession(sc)"
      ],
      "execution_count": 5,
      "outputs": []
    },
    {
      "cell_type": "code",
      "metadata": {
        "id": "i54ik0Eq2Lgi",
        "colab_type": "code",
        "colab": {}
      },
      "source": [
        "data_path = 'uci-news-aggregator.csv'\n",
        "news_data = spark.read.csv(data_path,header = 'True',inferSchema='True')"
      ],
      "execution_count": 18,
      "outputs": []
    },
    {
      "cell_type": "code",
      "metadata": {
        "id": "czmgxeBd3Pd9",
        "colab_type": "code",
        "colab": {
          "base_uri": "https://localhost:8080/",
          "height": 488
        },
        "outputId": "5cf0ee15-aaf4-4443-e527-45bd10469fd2"
      },
      "source": [
        "news_data.show()"
      ],
      "execution_count": 19,
      "outputs": [
        {
          "output_type": "stream",
          "text": [
            "+---+--------------------+--------------------+--------------------+--------+--------------------+--------------------+-------------+\n",
            "| ID|               TITLE|                 URL|           PUBLISHER|CATEGORY|               STORY|            HOSTNAME|    TIMESTAMP|\n",
            "+---+--------------------+--------------------+--------------------+--------+--------------------+--------------------+-------------+\n",
            "|  1|Fed official says...|http://www.latime...|   Los Angeles Times|       b|ddUyU0VZz0BRneMio...|     www.latimes.com|1394470370698|\n",
            "|  2|Fed's Charles Plo...|http://www.livemi...|            Livemint|       b|ddUyU0VZz0BRneMio...|    www.livemint.com|1394470371207|\n",
            "|  3|US open: Stocks f...|http://www.ifamag...|        IFA Magazine|       b|ddUyU0VZz0BRneMio...| www.ifamagazine.com|1394470371550|\n",
            "|  4|Fed risks falling...|http://www.ifamag...|        IFA Magazine|       b|ddUyU0VZz0BRneMio...| www.ifamagazine.com|1394470371793|\n",
            "|  5|Fed's Plosser: Na...|http://www.moneyn...|           Moneynews|       b|ddUyU0VZz0BRneMio...|   www.moneynews.com|1394470372027|\n",
            "|  6|Plosser: Fed May ...|http://www.nasdaq...|              NASDAQ|       b|ddUyU0VZz0BRneMio...|      www.nasdaq.com|1394470372212|\n",
            "|  7|Fed's Plosser: Ta...|http://www.market...|         MarketWatch|       b|ddUyU0VZz0BRneMio...| www.marketwatch.com|1394470372405|\n",
            "|  8|Fed's Plosser exp...|http://www.fxstre...|        FXstreet.com|       b|ddUyU0VZz0BRneMio...|    www.fxstreet.com|1394470372615|\n",
            "|  9|US jobs growth la...|http://economicti...|      Economic Times|       b|ddUyU0VZz0BRneMio...|economictimes.ind...|1394470372792|\n",
            "| 10|ECB unlikely to e...|http://www.iii.co...|Interactive Investor|       b|dPhGU51DcrolUIMxb...|       www.iii.co.uk|1394470501265|\n",
            "| 11|ECB unlikely to e...|http://in.reuters...|       Reuters India|       b|dPhGU51DcrolUIMxb...|      in.reuters.com|1394470501410|\n",
            "| 12|EU's half-baked b...|http://blogs.reut...| Reuters UK \\(blog\\)|       b|dPhGU51DcrolUIMxb...|   blogs.reuters.com|1394470501587|\n",
            "| 13|Europe reaches cr...|http://in.reuters...|             Reuters|       b|dPhGU51DcrolUIMxb...|      in.reuters.com|1394470501755|\n",
            "| 14|ECB FOCUS-Stronge...|http://in.reuters...|             Reuters|       b|dPhGU51DcrolUIMxb...|      in.reuters.com|1394470501948|\n",
            "| 15|EU aims for deal ...|http://main.omano...| Oman Daily Observer|       b|dPhGU51DcrolUIMxb...|main.omanobserver.om|1394470502141|\n",
            "| 16|Forex - Pound dro...|http://www.nasdaq...|              NASDAQ|       b|dPhGU51DcrolUIMxb...|      www.nasdaq.com|1394470502316|\n",
            "| 17|Noyer Says Strong...|http://www.sfgate...|San Francisco Chr...|       b|dPhGU51DcrolUIMxb...|      www.sfgate.com|1394470502543|\n",
            "| 18|EU Week Ahead Mar...|http://blogs.wsj....|Wall Street Journ...|       b|dPhGU51DcrolUIMxb...|       blogs.wsj.com|1394470502744|\n",
            "| 19|ECB member Noyer ...|http://www.ifamag...|        IFA Magazine|       b|dPhGU51DcrolUIMxb...| www.ifamagazine.com|1394470502946|\n",
            "| 20|Euro Anxieties Wa...|http://www.busine...|        Businessweek|       b|dPhGU51DcrolUIMxb...|www.businessweek.com|1394470503148|\n",
            "+---+--------------------+--------------------+--------------------+--------+--------------------+--------------------+-------------+\n",
            "only showing top 20 rows\n",
            "\n"
          ],
          "name": "stdout"
        }
      ]
    },
    {
      "cell_type": "code",
      "metadata": {
        "id": "FQSZ5qrn8gYb",
        "colab_type": "code",
        "colab": {
          "base_uri": "https://localhost:8080/",
          "height": 35
        },
        "outputId": "3c2eca31-c4a1-4e3c-96a3-9d458ee9072c"
      },
      "source": [
        "news_data.count()"
      ],
      "execution_count": 20,
      "outputs": [
        {
          "output_type": "execute_result",
          "data": {
            "text/plain": [
              "73485"
            ]
          },
          "metadata": {
            "tags": []
          },
          "execution_count": 20
        }
      ]
    },
    {
      "cell_type": "code",
      "metadata": {
        "id": "wuLE1isU3s-Y",
        "colab_type": "code",
        "colab": {}
      },
      "source": [
        "title_category = news_data.select(\"TITLE\",\"CATEGORY\")"
      ],
      "execution_count": 21,
      "outputs": []
    },
    {
      "cell_type": "code",
      "metadata": {
        "id": "hr6LL5WW9KBP",
        "colab_type": "code",
        "colab": {
          "base_uri": "https://localhost:8080/",
          "height": 468
        },
        "outputId": "a9a901a5-b584-42ed-f679-6db99dca9e47"
      },
      "source": [
        "title_category.show()"
      ],
      "execution_count": 22,
      "outputs": [
        {
          "output_type": "stream",
          "text": [
            "+--------------------+--------+\n",
            "|               TITLE|CATEGORY|\n",
            "+--------------------+--------+\n",
            "|Fed official says...|       b|\n",
            "|Fed's Charles Plo...|       b|\n",
            "|US open: Stocks f...|       b|\n",
            "|Fed risks falling...|       b|\n",
            "|Fed's Plosser: Na...|       b|\n",
            "|Plosser: Fed May ...|       b|\n",
            "|Fed's Plosser: Ta...|       b|\n",
            "|Fed's Plosser exp...|       b|\n",
            "|US jobs growth la...|       b|\n",
            "|ECB unlikely to e...|       b|\n",
            "|ECB unlikely to e...|       b|\n",
            "|EU's half-baked b...|       b|\n",
            "|Europe reaches cr...|       b|\n",
            "|ECB FOCUS-Stronge...|       b|\n",
            "|EU aims for deal ...|       b|\n",
            "|Forex - Pound dro...|       b|\n",
            "|Noyer Says Strong...|       b|\n",
            "|EU Week Ahead Mar...|       b|\n",
            "|ECB member Noyer ...|       b|\n",
            "|Euro Anxieties Wa...|       b|\n",
            "+--------------------+--------+\n",
            "only showing top 20 rows\n",
            "\n"
          ],
          "name": "stdout"
        }
      ]
    },
    {
      "cell_type": "code",
      "metadata": {
        "id": "9wZ0zPCK9MBm",
        "colab_type": "code",
        "colab": {}
      },
      "source": [
        "def null_value_count(df):\n",
        "  null_columns_counts = []\n",
        "  numRows = df.count()\n",
        "  for k in df.columns:\n",
        "    nullRows = df.where(col(k).isNull()).count()\n",
        "    if(nullRows > 0):\n",
        "      temp = k,nullRows\n",
        "      null_columns_counts.append(temp)\n",
        "  return(null_columns_counts)"
      ],
      "execution_count": 23,
      "outputs": []
    },
    {
      "cell_type": "code",
      "metadata": {
        "id": "Sw58yfq59nOw",
        "colab_type": "code",
        "colab": {}
      },
      "source": [
        "null_columns_count_list = null_value_count(title_category)"
      ],
      "execution_count": 24,
      "outputs": []
    },
    {
      "cell_type": "code",
      "metadata": {
        "id": "anSPbu8N9tdX",
        "colab_type": "code",
        "colab": {
          "base_uri": "https://localhost:8080/",
          "height": 139
        },
        "outputId": "495dd099-87e2-4cdc-8977-f2211f4a4f1c"
      },
      "source": [
        "spark.createDataFrame(null_columns_count_list, ['Column_With_Null_Value', 'Null_Values_Count']).show()"
      ],
      "execution_count": 25,
      "outputs": [
        {
          "output_type": "stream",
          "text": [
            "+----------------------+-----------------+\n",
            "|Column_With_Null_Value|Null_Values_Count|\n",
            "+----------------------+-----------------+\n",
            "|                 TITLE|               61|\n",
            "|              CATEGORY|               75|\n",
            "+----------------------+-----------------+\n",
            "\n"
          ],
          "name": "stdout"
        }
      ]
    },
    {
      "cell_type": "code",
      "metadata": {
        "id": "T3AQaB4q9wQi",
        "colab_type": "code",
        "colab": {}
      },
      "source": [
        "title_category = title_category.dropna()\n"
      ],
      "execution_count": 26,
      "outputs": []
    },
    {
      "cell_type": "code",
      "metadata": {
        "id": "yey7DCPC-f2d",
        "colab_type": "code",
        "colab": {
          "base_uri": "https://localhost:8080/",
          "height": 35
        },
        "outputId": "4f3d0297-4eab-470f-cb0b-38fa6548e382"
      },
      "source": [
        "title_category.count()"
      ],
      "execution_count": 27,
      "outputs": [
        {
          "output_type": "execute_result",
          "data": {
            "text/plain": [
              "73410"
            ]
          },
          "metadata": {
            "tags": []
          },
          "execution_count": 27
        }
      ]
    },
    {
      "cell_type": "code",
      "metadata": {
        "id": "MvNvUcs--tgS",
        "colab_type": "code",
        "colab": {
          "base_uri": "https://localhost:8080/",
          "height": 468
        },
        "outputId": "682e9a04-640f-4d6c-d370-00a5d0162047"
      },
      "source": [
        "title_category.show(truncate=False)"
      ],
      "execution_count": 28,
      "outputs": [
        {
          "output_type": "stream",
          "text": [
            "+---------------------------------------------------------------------------+--------+\n",
            "|TITLE                                                                      |CATEGORY|\n",
            "+---------------------------------------------------------------------------+--------+\n",
            "|Fed official says weak data caused by weather, should not slow taper       |b       |\n",
            "|Fed's Charles Plosser sees high bar for change in pace of tapering         |b       |\n",
            "|US open: Stocks fall after Fed official hints at accelerated tapering      |b       |\n",
            "|Fed risks falling 'behind the curve', Charles Plosser says                 |b       |\n",
            "|Fed's Plosser: Nasty Weather Has Curbed Job Growth                         |b       |\n",
            "|Plosser: Fed May Have to Accelerate Tapering Pace                          |b       |\n",
            "|Fed's Plosser: Taper pace may be too slow                                  |b       |\n",
            "|Fed's Plosser expects US unemployment to fall to 6.2% by the end of 2014   |b       |\n",
            "|US jobs growth last month hit by weather:Fed President Charles Plosser     |b       |\n",
            "|ECB unlikely to end sterilisation of SMP purchases - traders               |b       |\n",
            "|ECB unlikely to end sterilization of SMP purchases: traders                |b       |\n",
            "|EU's half-baked bank union could work                                      |b       |\n",
            "|Europe reaches crunch point on banking union                               |b       |\n",
            "|ECB FOCUS-Stronger euro drowns out ECB's message to keep rates low for  ...|b       |\n",
            "|EU aims for deal on tackling failing banks                                 |b       |\n",
            "|Forex - Pound drops to one-month lows against euro                         |b       |\n",
            "|Noyer Says Strong Euro Creates Unwarranted Economic Pressure               |b       |\n",
            "|EU Week Ahead March 10-14: Bank Resolution, Transparency, Ukraine          |b       |\n",
            "|ECB member Noyer is 'very open to all kinds of tools'                      |b       |\n",
            "|Euro Anxieties Wane as Bunds Top Treasuries, Spain Debt Rallies            |b       |\n",
            "+---------------------------------------------------------------------------+--------+\n",
            "only showing top 20 rows\n",
            "\n"
          ],
          "name": "stdout"
        }
      ]
    },
    {
      "cell_type": "code",
      "metadata": {
        "id": "PzPyph8C-uyp",
        "colab_type": "code",
        "colab": {
          "base_uri": "https://localhost:8080/",
          "height": 35
        },
        "outputId": "b9278ccf-d45f-4c9f-f876-6fa72ffde38f"
      },
      "source": [
        "title_category.select(\"Category\").distinct().count()"
      ],
      "execution_count": 29,
      "outputs": [
        {
          "output_type": "execute_result",
          "data": {
            "text/plain": [
              "78"
            ]
          },
          "metadata": {
            "tags": []
          },
          "execution_count": 29
        }
      ]
    },
    {
      "cell_type": "code",
      "metadata": {
        "id": "qcnxqVw4-0Xf",
        "colab_type": "code",
        "colab": {
          "base_uri": "https://localhost:8080/",
          "height": 468
        },
        "outputId": "c8bdf938-f1d0-46ba-d21a-48f7e1955af1"
      },
      "source": [
        "title_category.groupBy(\"Category\").count().orderBy(col(\"count\").desc()).show(truncate=False)"
      ],
      "execution_count": 30,
      "outputs": [
        {
          "output_type": "stream",
          "text": [
            "+-------------------------------------+-----+\n",
            "|Category                             |count|\n",
            "+-------------------------------------+-----+\n",
            "|e                                    |25372|\n",
            "|b                                    |21175|\n",
            "|t                                    |18462|\n",
            "|m                                    |8296 |\n",
            "|GossipCop                            |5    |\n",
            "|Us Magazine                          |4    |\n",
            "|The Hollywood Gossip                 |4    |\n",
            "|Gamepur                              |4    |\n",
            "|Contactmusic.com                     |4    |\n",
            "|Fast Company                         |3    |\n",
            "|Complex.com                          |3    |\n",
            "|Reality TV World                     |3    |\n",
            "|TooFab.com                           |3    |\n",
            "|Mobile Burn                          |3    |\n",
            "|The Escapist                         |2    |\n",
            "|Fashion Times                        |2    |\n",
            "|FasterLouder                         |2    |\n",
            "|NBC Bay Area                         |2    |\n",
            "|WFJA Classic Hits and Oldies 105.5 FM|2    |\n",
            "|Allure Magazine \\(blog\\)             |1    |\n",
            "+-------------------------------------+-----+\n",
            "only showing top 20 rows\n",
            "\n"
          ],
          "name": "stdout"
        }
      ]
    },
    {
      "cell_type": "code",
      "metadata": {
        "id": "tRZAhSnO-51S",
        "colab_type": "code",
        "colab": {
          "base_uri": "https://localhost:8080/",
          "height": 468
        },
        "outputId": "584f0f6d-0632-4cd7-8d1c-ea06e7a12621"
      },
      "source": [
        "title_category.groupBy(\"TITLE\").count().orderBy(col(\"count\").desc()).show(truncate=False)\n"
      ],
      "execution_count": 31,
      "outputs": [
        {
          "output_type": "stream",
          "text": [
            "+---------------------------------------------------------------------+-----+\n",
            "|TITLE                                                                |count|\n",
            "+---------------------------------------------------------------------+-----+\n",
            "|(click the phrases to see a list)                                    |15   |\n",
            "|Business Highlights                                                  |12   |\n",
            "|Get the Most Popular Beauty World News Stories in a Weekly Newsletter|11   |\n",
            "|PR Newswire                                                          |8    |\n",
            "|AP News in Brief at 5:58 a.m. EDT                                    |6    |\n",
            "|Business Wire                                                        |6    |\n",
            "|From ColumbusAlive.com                                               |6    |\n",
            "|International markets roundup                                        |6    |\n",
            "|Visionary or looney? Zuckerberg on spending spree                    |6    |\n",
            "|Russell Crowe calls 'Noah' criticism 'irrational'                    |5    |\n",
            "|GM recalls 824000 more cars over ignition problem                    |5    |\n",
            "|Business briefs                                                      |5    |\n",
            "|Autism may begin during pregnancy; rates soar, study says            |5    |\n",
            "|Posted by Parvez Jabri                                               |5    |\n",
            "|Microsoft delivers Office for rival Apple's iPad                     |5    |\n",
            "|US consumer spending up modest 0.3 percent                           |5    |\n",
            "|Sector Update: Consumer                                              |5    |\n",
            "|Applications for US jobless aid dip to 4-month low                   |4    |\n",
            "|Microsoft unveils Office for iPad                                    |4    |\n",
            "|Colon cancer rates down since 1980s                                  |4    |\n",
            "+---------------------------------------------------------------------+-----+\n",
            "only showing top 20 rows\n",
            "\n"
          ],
          "name": "stdout"
        }
      ]
    },
    {
      "cell_type": "code",
      "metadata": {
        "id": "_m08Y09v_BVc",
        "colab_type": "code",
        "colab": {}
      },
      "source": [
        "title_category = title_category.withColumn(\"only_str\",regexp_replace(col('TITLE'), '\\d+', ''))"
      ],
      "execution_count": 32,
      "outputs": []
    },
    {
      "cell_type": "code",
      "metadata": {
        "id": "KZPADsQy_E4U",
        "colab_type": "code",
        "colab": {
          "base_uri": "https://localhost:8080/",
          "height": 488
        },
        "outputId": "89bbc08f-2585-420d-8653-b4829b293a45"
      },
      "source": [
        "title_category.select(\"TITLE\",\"only_str\").show(truncate=False)"
      ],
      "execution_count": 33,
      "outputs": [
        {
          "output_type": "stream",
          "text": [
            "+---------------------------------------------------------------------------+---------------------------------------------------------------------------+\n",
            "|TITLE                                                                      |only_str                                                                   |\n",
            "+---------------------------------------------------------------------------+---------------------------------------------------------------------------+\n",
            "|Fed official says weak data caused by weather, should not slow taper       |Fed official says weak data caused by weather, should not slow taper       |\n",
            "|Fed's Charles Plosser sees high bar for change in pace of tapering         |Fed's Charles Plosser sees high bar for change in pace of tapering         |\n",
            "|US open: Stocks fall after Fed official hints at accelerated tapering      |US open: Stocks fall after Fed official hints at accelerated tapering      |\n",
            "|Fed risks falling 'behind the curve', Charles Plosser says                 |Fed risks falling 'behind the curve', Charles Plosser says                 |\n",
            "|Fed's Plosser: Nasty Weather Has Curbed Job Growth                         |Fed's Plosser: Nasty Weather Has Curbed Job Growth                         |\n",
            "|Plosser: Fed May Have to Accelerate Tapering Pace                          |Plosser: Fed May Have to Accelerate Tapering Pace                          |\n",
            "|Fed's Plosser: Taper pace may be too slow                                  |Fed's Plosser: Taper pace may be too slow                                  |\n",
            "|Fed's Plosser expects US unemployment to fall to 6.2% by the end of 2014   |Fed's Plosser expects US unemployment to fall to .% by the end of          |\n",
            "|US jobs growth last month hit by weather:Fed President Charles Plosser     |US jobs growth last month hit by weather:Fed President Charles Plosser     |\n",
            "|ECB unlikely to end sterilisation of SMP purchases - traders               |ECB unlikely to end sterilisation of SMP purchases - traders               |\n",
            "|ECB unlikely to end sterilization of SMP purchases: traders                |ECB unlikely to end sterilization of SMP purchases: traders                |\n",
            "|EU's half-baked bank union could work                                      |EU's half-baked bank union could work                                      |\n",
            "|Europe reaches crunch point on banking union                               |Europe reaches crunch point on banking union                               |\n",
            "|ECB FOCUS-Stronger euro drowns out ECB's message to keep rates low for  ...|ECB FOCUS-Stronger euro drowns out ECB's message to keep rates low for  ...|\n",
            "|EU aims for deal on tackling failing banks                                 |EU aims for deal on tackling failing banks                                 |\n",
            "|Forex - Pound drops to one-month lows against euro                         |Forex - Pound drops to one-month lows against euro                         |\n",
            "|Noyer Says Strong Euro Creates Unwarranted Economic Pressure               |Noyer Says Strong Euro Creates Unwarranted Economic Pressure               |\n",
            "|EU Week Ahead March 10-14: Bank Resolution, Transparency, Ukraine          |EU Week Ahead March -: Bank Resolution, Transparency, Ukraine              |\n",
            "|ECB member Noyer is 'very open to all kinds of tools'                      |ECB member Noyer is 'very open to all kinds of tools'                      |\n",
            "|Euro Anxieties Wane as Bunds Top Treasuries, Spain Debt Rallies            |Euro Anxieties Wane as Bunds Top Treasuries, Spain Debt Rallies            |\n",
            "+---------------------------------------------------------------------------+---------------------------------------------------------------------------+\n",
            "only showing top 20 rows\n",
            "\n"
          ],
          "name": "stdout"
        }
      ]
    },
    {
      "cell_type": "code",
      "metadata": {
        "id": "7gy5zEOo_PfG",
        "colab_type": "code",
        "colab": {}
      },
      "source": [
        "regex_tokenizer = RegexTokenizer(inputCol=\"only_str\", outputCol=\"words\", pattern=\"\\\\W\")\n",
        "raw_words = regex_tokenizer.transform(title_category)\n"
      ],
      "execution_count": 34,
      "outputs": []
    },
    {
      "cell_type": "code",
      "metadata": {
        "id": "ux43wMDgA_0t",
        "colab_type": "code",
        "colab": {
          "base_uri": "https://localhost:8080/",
          "height": 468
        },
        "outputId": "376c7a19-8ebb-4e3d-a459-53053c30aad9"
      },
      "source": [
        "raw_words.show()"
      ],
      "execution_count": 35,
      "outputs": [
        {
          "output_type": "stream",
          "text": [
            "+--------------------+--------+--------------------+--------------------+\n",
            "|               TITLE|CATEGORY|            only_str|               words|\n",
            "+--------------------+--------+--------------------+--------------------+\n",
            "|Fed official says...|       b|Fed official says...|[fed, official, s...|\n",
            "|Fed's Charles Plo...|       b|Fed's Charles Plo...|[fed, s, charles,...|\n",
            "|US open: Stocks f...|       b|US open: Stocks f...|[us, open, stocks...|\n",
            "|Fed risks falling...|       b|Fed risks falling...|[fed, risks, fall...|\n",
            "|Fed's Plosser: Na...|       b|Fed's Plosser: Na...|[fed, s, plosser,...|\n",
            "|Plosser: Fed May ...|       b|Plosser: Fed May ...|[plosser, fed, ma...|\n",
            "|Fed's Plosser: Ta...|       b|Fed's Plosser: Ta...|[fed, s, plosser,...|\n",
            "|Fed's Plosser exp...|       b|Fed's Plosser exp...|[fed, s, plosser,...|\n",
            "|US jobs growth la...|       b|US jobs growth la...|[us, jobs, growth...|\n",
            "|ECB unlikely to e...|       b|ECB unlikely to e...|[ecb, unlikely, t...|\n",
            "|ECB unlikely to e...|       b|ECB unlikely to e...|[ecb, unlikely, t...|\n",
            "|EU's half-baked b...|       b|EU's half-baked b...|[eu, s, half, bak...|\n",
            "|Europe reaches cr...|       b|Europe reaches cr...|[europe, reaches,...|\n",
            "|ECB FOCUS-Stronge...|       b|ECB FOCUS-Stronge...|[ecb, focus, stro...|\n",
            "|EU aims for deal ...|       b|EU aims for deal ...|[eu, aims, for, d...|\n",
            "|Forex - Pound dro...|       b|Forex - Pound dro...|[forex, pound, dr...|\n",
            "|Noyer Says Strong...|       b|Noyer Says Strong...|[noyer, says, str...|\n",
            "|EU Week Ahead Mar...|       b|EU Week Ahead Mar...|[eu, week, ahead,...|\n",
            "|ECB member Noyer ...|       b|ECB member Noyer ...|[ecb, member, noy...|\n",
            "|Euro Anxieties Wa...|       b|Euro Anxieties Wa...|[euro, anxieties,...|\n",
            "+--------------------+--------+--------------------+--------------------+\n",
            "only showing top 20 rows\n",
            "\n"
          ],
          "name": "stdout"
        }
      ]
    },
    {
      "cell_type": "code",
      "metadata": {
        "id": "N6YQw6JNBB-W",
        "colab_type": "code",
        "colab": {}
      },
      "source": [
        "remover = StopWordsRemover(inputCol=\"words\", outputCol=\"filtered\")\n",
        "words_df = remover.transform(raw_words)"
      ],
      "execution_count": 36,
      "outputs": []
    },
    {
      "cell_type": "code",
      "metadata": {
        "id": "ejryu7jjBFZ7",
        "colab_type": "code",
        "colab": {
          "base_uri": "https://localhost:8080/",
          "height": 468
        },
        "outputId": "ad837b46-7830-4a44-a6c1-258fe38f5f31"
      },
      "source": [
        "words_df.select(\"words\",\"filtered\").show()\n"
      ],
      "execution_count": 37,
      "outputs": [
        {
          "output_type": "stream",
          "text": [
            "+--------------------+--------------------+\n",
            "|               words|            filtered|\n",
            "+--------------------+--------------------+\n",
            "|[fed, official, s...|[fed, official, s...|\n",
            "|[fed, s, charles,...|[fed, charles, pl...|\n",
            "|[us, open, stocks...|[us, open, stocks...|\n",
            "|[fed, risks, fall...|[fed, risks, fall...|\n",
            "|[fed, s, plosser,...|[fed, plosser, na...|\n",
            "|[plosser, fed, ma...|[plosser, fed, ma...|\n",
            "|[fed, s, plosser,...|[fed, plosser, ta...|\n",
            "|[fed, s, plosser,...|[fed, plosser, ex...|\n",
            "|[us, jobs, growth...|[us, jobs, growth...|\n",
            "|[ecb, unlikely, t...|[ecb, unlikely, e...|\n",
            "|[ecb, unlikely, t...|[ecb, unlikely, e...|\n",
            "|[eu, s, half, bak...|[eu, half, baked,...|\n",
            "|[europe, reaches,...|[europe, reaches,...|\n",
            "|[ecb, focus, stro...|[ecb, focus, stro...|\n",
            "|[eu, aims, for, d...|[eu, aims, deal, ...|\n",
            "|[forex, pound, dr...|[forex, pound, dr...|\n",
            "|[noyer, says, str...|[noyer, says, str...|\n",
            "|[eu, week, ahead,...|[eu, week, ahead,...|\n",
            "|[ecb, member, noy...|[ecb, member, noy...|\n",
            "|[euro, anxieties,...|[euro, anxieties,...|\n",
            "+--------------------+--------------------+\n",
            "only showing top 20 rows\n",
            "\n"
          ],
          "name": "stdout"
        }
      ]
    },
    {
      "cell_type": "code",
      "metadata": {
        "id": "K12G9u_bBJQx",
        "colab_type": "code",
        "colab": {}
      },
      "source": [
        "indexer = StringIndexer(inputCol=\"CATEGORY\", outputCol=\"categoryIndex\")\n",
        "feature_data = indexer.fit(words_df).transform(words_df)\n"
      ],
      "execution_count": 38,
      "outputs": []
    },
    {
      "cell_type": "code",
      "metadata": {
        "id": "52q0BDe8BNQb",
        "colab_type": "code",
        "colab": {
          "base_uri": "https://localhost:8080/",
          "height": 468
        },
        "outputId": "8ea470c4-f3a5-4aed-bb7d-9b8e29d3f292"
      },
      "source": [
        "feature_data.select(\"CATEGORY\",\"categoryIndex\").show()\n"
      ],
      "execution_count": 39,
      "outputs": [
        {
          "output_type": "stream",
          "text": [
            "+--------+-------------+\n",
            "|CATEGORY|categoryIndex|\n",
            "+--------+-------------+\n",
            "|       b|          1.0|\n",
            "|       b|          1.0|\n",
            "|       b|          1.0|\n",
            "|       b|          1.0|\n",
            "|       b|          1.0|\n",
            "|       b|          1.0|\n",
            "|       b|          1.0|\n",
            "|       b|          1.0|\n",
            "|       b|          1.0|\n",
            "|       b|          1.0|\n",
            "|       b|          1.0|\n",
            "|       b|          1.0|\n",
            "|       b|          1.0|\n",
            "|       b|          1.0|\n",
            "|       b|          1.0|\n",
            "|       b|          1.0|\n",
            "|       b|          1.0|\n",
            "|       b|          1.0|\n",
            "|       b|          1.0|\n",
            "|       b|          1.0|\n",
            "+--------+-------------+\n",
            "only showing top 20 rows\n",
            "\n"
          ],
          "name": "stdout"
        }
      ]
    },
    {
      "cell_type": "code",
      "metadata": {
        "id": "pJ_uD3IXBQ4k",
        "colab_type": "code",
        "colab": {}
      },
      "source": [
        "cv = CountVectorizer(inputCol=\"filtered\", outputCol=\"features\")\n",
        "model = cv.fit(feature_data)\n",
        "countVectorizer_feateures = model.transform(feature_data)\n"
      ],
      "execution_count": 40,
      "outputs": []
    },
    {
      "cell_type": "code",
      "metadata": {
        "id": "qCrFmuMhBUmS",
        "colab_type": "code",
        "colab": {}
      },
      "source": [
        "(trainingData, testData) = countVectorizer_feateures.randomSplit([0.8, 0.2],seed = 11)"
      ],
      "execution_count": 41,
      "outputs": []
    },
    {
      "cell_type": "code",
      "metadata": {
        "id": "mA7big3aBXxq",
        "colab_type": "code",
        "colab": {}
      },
      "source": [
        "nb = NaiveBayes(modelType=\"multinomial\",labelCol=\"categoryIndex\", featuresCol=\"features\")\n",
        "nbModel = nb.fit(trainingData)\n",
        "nb_predictions = nbModel.transform(testData)\n"
      ],
      "execution_count": 42,
      "outputs": []
    },
    {
      "cell_type": "code",
      "metadata": {
        "id": "1S7pWPXPBbZ0",
        "colab_type": "code",
        "colab": {
          "base_uri": "https://localhost:8080/",
          "height": 208
        },
        "outputId": "aef29eb6-a9a3-4b25-f34b-f961afb873c5"
      },
      "source": [
        "nb_predictions.select(\"prediction\", \"categoryIndex\", \"features\").show(5)"
      ],
      "execution_count": 43,
      "outputs": [
        {
          "output_type": "stream",
          "text": [
            "+----------+-------------+--------------------+\n",
            "|prediction|categoryIndex|            features|\n",
            "+----------+-------------+--------------------+\n",
            "|       0.0|          0.0|(21944,[28,180,70...|\n",
            "|       0.0|          0.0|(21944,[31,704,14...|\n",
            "|       0.0|          0.0|(21944,[83,109,11...|\n",
            "|       0.0|          0.0|(21944,[19,77,203...|\n",
            "|       0.0|         12.0|(21944,[203,324,7...|\n",
            "+----------+-------------+--------------------+\n",
            "only showing top 5 rows\n",
            "\n"
          ],
          "name": "stdout"
        }
      ]
    },
    {
      "cell_type": "code",
      "metadata": {
        "id": "AFrDoLv9BivC",
        "colab_type": "code",
        "colab": {
          "base_uri": "https://localhost:8080/",
          "height": 52
        },
        "outputId": "e7dc92c6-fb38-4970-fd4f-02ab3c206d85"
      },
      "source": [
        "evaluator = MulticlassClassificationEvaluator(labelCol=\"categoryIndex\", predictionCol=\"prediction\", metricName=\"accuracy\")\n",
        "nb_accuracy = evaluator.evaluate(nb_predictions)\n",
        "print(\"Accuracy of NaiveBayes is = %g\"% (nb_accuracy))\n",
        "print(\"Test Error of NaiveBayes = %g \" % (1.0 - nb_accuracy))\n"
      ],
      "execution_count": 45,
      "outputs": [
        {
          "output_type": "stream",
          "text": [
            "Accuracy of NaiveBayes is = 0.945332\n",
            "Test Error of NaiveBayes = 0.054668 \n"
          ],
          "name": "stdout"
        }
      ]
    }
  ]
}