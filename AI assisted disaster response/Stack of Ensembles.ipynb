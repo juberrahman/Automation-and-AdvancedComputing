{
  "nbformat": 4,
  "nbformat_minor": 0,
  "metadata": {
    "kernelspec": {
      "display_name": "Python 3",
      "language": "python",
      "name": "python3"
    },
    "language_info": {
      "codemirror_mode": {
        "name": "ipython",
        "version": 3
      },
      "file_extension": ".py",
      "mimetype": "text/x-python",
      "name": "python",
      "nbconvert_exporter": "python",
      "pygments_lexer": "ipython3",
      "version": "3.7.4"
    },
    "varInspector": {
      "cols": {
        "lenName": 16,
        "lenType": 16,
        "lenVar": 40
      },
      "kernels_config": {
        "python": {
          "delete_cmd_postfix": "",
          "delete_cmd_prefix": "del ",
          "library": "var_list.py",
          "varRefreshCmd": "print(var_dic_list())"
        },
        "r": {
          "delete_cmd_postfix": ") ",
          "delete_cmd_prefix": "rm(",
          "library": "var_list.r",
          "varRefreshCmd": "cat(var_dic_list()) "
        }
      },
      "types_to_exclude": [
        "module",
        "function",
        "builtin_function_or_method",
        "instance",
        "_Feature"
      ],
      "window_display": false
    },
    "colab": {
      "name": "QC_EvaluatedModel-1.ipynb",
      "provenance": [],
      "include_colab_link": true
    },
    "widgets": {
      "application/vnd.jupyter.widget-state+json": {
        "bf3a583422344be1a2c5879489dfb5d6": {
          "model_module": "@jupyter-widgets/controls",
          "model_name": "HBoxModel",
          "state": {
            "_view_name": "HBoxView",
            "_dom_classes": [],
            "_model_name": "HBoxModel",
            "_view_module": "@jupyter-widgets/controls",
            "_model_module_version": "1.5.0",
            "_view_count": null,
            "_view_module_version": "1.5.0",
            "box_style": "",
            "layout": "IPY_MODEL_815afc3732154a7ab6d3584efebda0d6",
            "_model_module": "@jupyter-widgets/controls",
            "children": [
              "IPY_MODEL_85100913ca9048ec93f4657db01f5f76",
              "IPY_MODEL_f911363ce74c4dbdadcbaa4ed9f4db07"
            ]
          }
        },
        "815afc3732154a7ab6d3584efebda0d6": {
          "model_module": "@jupyter-widgets/base",
          "model_name": "LayoutModel",
          "state": {
            "_view_name": "LayoutView",
            "grid_template_rows": null,
            "right": null,
            "justify_content": null,
            "_view_module": "@jupyter-widgets/base",
            "overflow": null,
            "_model_module_version": "1.2.0",
            "_view_count": null,
            "flex_flow": null,
            "width": null,
            "min_width": null,
            "border": null,
            "align_items": null,
            "bottom": null,
            "_model_module": "@jupyter-widgets/base",
            "top": null,
            "grid_column": null,
            "overflow_y": null,
            "overflow_x": null,
            "grid_auto_flow": null,
            "grid_area": null,
            "grid_template_columns": null,
            "flex": null,
            "_model_name": "LayoutModel",
            "justify_items": null,
            "grid_row": null,
            "max_height": null,
            "align_content": null,
            "visibility": null,
            "align_self": null,
            "height": null,
            "min_height": null,
            "padding": null,
            "grid_auto_rows": null,
            "grid_gap": null,
            "max_width": null,
            "order": null,
            "_view_module_version": "1.2.0",
            "grid_template_areas": null,
            "object_position": null,
            "object_fit": null,
            "grid_auto_columns": null,
            "margin": null,
            "display": null,
            "left": null
          }
        },
        "85100913ca9048ec93f4657db01f5f76": {
          "model_module": "@jupyter-widgets/controls",
          "model_name": "IntProgressModel",
          "state": {
            "_view_name": "ProgressView",
            "style": "IPY_MODEL_ab6437d4be774abb88683cf4fef770ac",
            "_dom_classes": [],
            "description": "Optimization Progress: 100%",
            "_model_name": "IntProgressModel",
            "bar_style": "",
            "max": 300,
            "_view_module": "@jupyter-widgets/controls",
            "_model_module_version": "1.5.0",
            "value": 300,
            "_view_count": null,
            "_view_module_version": "1.5.0",
            "orientation": "horizontal",
            "min": 0,
            "description_tooltip": null,
            "_model_module": "@jupyter-widgets/controls",
            "layout": "IPY_MODEL_4d54e6ba539942adb2cd8c5f45b4ad5c"
          }
        },
        "f911363ce74c4dbdadcbaa4ed9f4db07": {
          "model_module": "@jupyter-widgets/controls",
          "model_name": "HTMLModel",
          "state": {
            "_view_name": "HTMLView",
            "style": "IPY_MODEL_2e91691e299140d180ecbfbcf995387b",
            "_dom_classes": [],
            "description": "",
            "_model_name": "HTMLModel",
            "placeholder": "​",
            "_view_module": "@jupyter-widgets/controls",
            "_model_module_version": "1.5.0",
            "value": " 300/300 [19:02&lt;00:00,  3.20s/pipeline]",
            "_view_count": null,
            "_view_module_version": "1.5.0",
            "description_tooltip": null,
            "_model_module": "@jupyter-widgets/controls",
            "layout": "IPY_MODEL_2b89867afd3c45caa86e2d5476f98f42"
          }
        },
        "ab6437d4be774abb88683cf4fef770ac": {
          "model_module": "@jupyter-widgets/controls",
          "model_name": "ProgressStyleModel",
          "state": {
            "_view_name": "StyleView",
            "_model_name": "ProgressStyleModel",
            "description_width": "initial",
            "_view_module": "@jupyter-widgets/base",
            "_model_module_version": "1.5.0",
            "_view_count": null,
            "_view_module_version": "1.2.0",
            "bar_color": null,
            "_model_module": "@jupyter-widgets/controls"
          }
        },
        "4d54e6ba539942adb2cd8c5f45b4ad5c": {
          "model_module": "@jupyter-widgets/base",
          "model_name": "LayoutModel",
          "state": {
            "_view_name": "LayoutView",
            "grid_template_rows": null,
            "right": null,
            "justify_content": null,
            "_view_module": "@jupyter-widgets/base",
            "overflow": null,
            "_model_module_version": "1.2.0",
            "_view_count": null,
            "flex_flow": null,
            "width": null,
            "min_width": null,
            "border": null,
            "align_items": null,
            "bottom": null,
            "_model_module": "@jupyter-widgets/base",
            "top": null,
            "grid_column": null,
            "overflow_y": null,
            "overflow_x": null,
            "grid_auto_flow": null,
            "grid_area": null,
            "grid_template_columns": null,
            "flex": null,
            "_model_name": "LayoutModel",
            "justify_items": null,
            "grid_row": null,
            "max_height": null,
            "align_content": null,
            "visibility": null,
            "align_self": null,
            "height": null,
            "min_height": null,
            "padding": null,
            "grid_auto_rows": null,
            "grid_gap": null,
            "max_width": null,
            "order": null,
            "_view_module_version": "1.2.0",
            "grid_template_areas": null,
            "object_position": null,
            "object_fit": null,
            "grid_auto_columns": null,
            "margin": null,
            "display": null,
            "left": null
          }
        },
        "2e91691e299140d180ecbfbcf995387b": {
          "model_module": "@jupyter-widgets/controls",
          "model_name": "DescriptionStyleModel",
          "state": {
            "_view_name": "StyleView",
            "_model_name": "DescriptionStyleModel",
            "description_width": "",
            "_view_module": "@jupyter-widgets/base",
            "_model_module_version": "1.5.0",
            "_view_count": null,
            "_view_module_version": "1.2.0",
            "_model_module": "@jupyter-widgets/controls"
          }
        },
        "2b89867afd3c45caa86e2d5476f98f42": {
          "model_module": "@jupyter-widgets/base",
          "model_name": "LayoutModel",
          "state": {
            "_view_name": "LayoutView",
            "grid_template_rows": null,
            "right": null,
            "justify_content": null,
            "_view_module": "@jupyter-widgets/base",
            "overflow": null,
            "_model_module_version": "1.2.0",
            "_view_count": null,
            "flex_flow": null,
            "width": null,
            "min_width": null,
            "border": null,
            "align_items": null,
            "bottom": null,
            "_model_module": "@jupyter-widgets/base",
            "top": null,
            "grid_column": null,
            "overflow_y": null,
            "overflow_x": null,
            "grid_auto_flow": null,
            "grid_area": null,
            "grid_template_columns": null,
            "flex": null,
            "_model_name": "LayoutModel",
            "justify_items": null,
            "grid_row": null,
            "max_height": null,
            "align_content": null,
            "visibility": null,
            "align_self": null,
            "height": null,
            "min_height": null,
            "padding": null,
            "grid_auto_rows": null,
            "grid_gap": null,
            "max_width": null,
            "order": null,
            "_view_module_version": "1.2.0",
            "grid_template_areas": null,
            "object_position": null,
            "object_fit": null,
            "grid_auto_columns": null,
            "margin": null,
            "display": null,
            "left": null
          }
        }
      }
    }
  },
  "cells": [
    {
      "cell_type": "markdown",
      "metadata": {
        "id": "view-in-github",
        "colab_type": "text"
      },
      "source": [
        "<a href=\"https://colab.research.google.com/github/juberrahman/MachineLearning-and-BigData/blob/master/QC_EvaluatedModel_1.ipynb\" target=\"_parent\"><img src=\"https://colab.research.google.com/assets/colab-badge.svg\" alt=\"Open In Colab\"/></a>"
      ]
    },
    {
      "cell_type": "markdown",
      "metadata": {
        "colab_type": "text",
        "id": "A5YDLpPiYxci"
      },
      "source": [
        "![alt text](https://omdena.com/wp-content/uploads/2019/12/logo-2.png)\n",
        "\n",
        "## Project: <b>AI for Disaster Response: Improving Emergency Management During Cyclones</b>\n",
        "\n",
        "Sponsor: World Food Programme, United Nations\n",
        "\n",
        "<b>Developers</b> :<br> \n",
        "*Juber Rahman, Vamsi Krishna Gutta, and Xavier Tores*<br> \n",
        "Machine Learning Engineer, Omdena<br>\n",
        "<b>Contributors</b>:<br>\n",
        "*Devika Bhatia, Anel Nurkayeva, Rosana de Oliveira Gomes, Dev Bharti, Begoña Echavarren, Erick Almaraz, Fabiana Castiblanco, Joseph Itopa Abubakar, Pratibha Gupta, Arnab Saha, Beata, Chinmay Krishnan K C, Francis Onyango, Geethanjali Battula, Grivine Ochieng Otieno, Jeremiah Kamama, Krzysztof Augustowski, Nithima, Raghuram, Rishab Balakrishnan,Rohit Nagotkar, Sijuade Oguntayo, Susanne Brockmann, Tefy lucky rakotomahefa,Thiago Cunha Montenegro, Yousof Mardoukhi*<br>\n",
        "<b>Acknowledgements</b> :<br> \n",
        "*Rudradeb Mitra*, CEO, Omdena<br>\n",
        "*Raghu Nallabotula*, World Food Programme<br>\n",
        "## Problem: Quick disaster response\n",
        "When a disaster strikes, the World Food Programme (WFP), as well as the other humanitarian actors, need to design comprehensive emergency operations. They need to know what to bring and in which quantity.  How many shelters? How many tons of food? These needs assessments are conducted by humanitarian experts, based on the first information collected, their knowledge and their experience.\n",
        "\n",
        "What if we could use past disaster data to help them know what is needed?\n",
        "\n",
        "### Summary of Materials and Methods:\n",
        "\n",
        "* Dataset used: merged dataset version 14 (OUTPUT_WBI_exposer_cyclones_v14.csv)\n",
        "* Data processing : filling missing values, encoding categorical features, dealing skewed distribution\n",
        "* Missing value: KNN Imputer\n",
        "* Hyper-parameter tuning: Grid Search CV\n",
        "* Ensemble Methods: Random Forest, Gradient Boosting Method\n",
        "* Feature Engineering: Log Conversion\n",
        "* No. of actual Predictors: 45\n",
        "* Target: Number of people affected\n",
        "* Validation scheme: 5-fold cross-validation, Test set performance, Unit test performance\n",
        "* Train set (80%), Test set (20%)\n",
        "\n",
        "<b>Models:</b>\n",
        "* Random Forest (RF)\n",
        "* Gradient Boosting Method (GBM)\n",
        "* Support Vector Regression\n",
        "* Voting ensemble of RF and GBM\n",
        "* Stack of Ensembles \n",
        "* Auto ML\n",
        "\n",
        "### Findings and Discussions:\n",
        "* Best performing model: <b>Stack of Ensembles </b>\n",
        "* Performance: RMSLE=2.41 , R-squared value=0.37 \n",
        "* The model is good in predicting the mid-impact cyclones \n",
        "* For low impact cyclones predictions are over-estimated\n",
        "* Overall trend shows a weak but expected trend\n",
        "\n"
      ]
    },
    {
      "cell_type": "code",
      "metadata": {
        "id": "e3HFCaKIERkx",
        "colab_type": "code",
        "colab": {}
      },
      "source": [
        "import pandas as pd\n",
        "import numpy as np\n",
        "from matplotlib import pyplot as plt\n",
        "%matplotlib inline\n",
        "import seaborn as sns\n",
        "from datetime import datetime\n",
        "import math"
      ],
      "execution_count": 0,
      "outputs": []
    },
    {
      "cell_type": "code",
      "metadata": {
        "id": "iEYAVaw8ERlf",
        "colab_type": "code",
        "colab": {}
      },
      "source": [
        "from sklearn.model_selection import cross_val_score, GridSearchCV, RandomizedSearchCV\n",
        "from sklearn.ensemble import RandomForestRegressor\n",
        "from sklearn.preprocessing import MinMaxScaler\n",
        "from sklearn import preprocessing\n",
        "from sklearn.model_selection import train_test_split\n",
        "from sklearn.model_selection import cross_val_score, KFold\n",
        "from sklearn.metrics import mean_squared_error, r2_score\n",
        "from warnings import simplefilter\n",
        "from sklearn.ensemble import GradientBoostingRegressor"
      ],
      "execution_count": 0,
      "outputs": []
    },
    {
      "cell_type": "code",
      "metadata": {
        "id": "DR6AP7pXERmb",
        "colab_type": "code",
        "colab": {}
      },
      "source": [
        "df = pd.read_csv(r'OUTPUT_WBI_exposer_cyclones_v14.csv', sep=\";\")"
      ],
      "execution_count": 0,
      "outputs": []
    },
    {
      "cell_type": "markdown",
      "metadata": {
        "id": "Wt4BLZdlERnC",
        "colab_type": "text"
      },
      "source": [
        "## Data pre-processing"
      ]
    },
    {
      "cell_type": "code",
      "metadata": {
        "id": "tYtdLmUZERnH",
        "colab_type": "code",
        "outputId": "f9e824d2-12d8-46a4-c7ba-2ca6575b0397",
        "colab": {
          "base_uri": "https://localhost:8080/",
          "height": 34
        }
      },
      "source": [
        "df.shape"
      ],
      "execution_count": 0,
      "outputs": [
        {
          "output_type": "execute_result",
          "data": {
            "text/plain": [
              "(991, 51)"
            ]
          },
          "metadata": {
            "tags": []
          },
          "execution_count": 52
        }
      ]
    },
    {
      "cell_type": "code",
      "metadata": {
        "id": "qF3eyCnyERn5",
        "colab_type": "code",
        "outputId": "a43aa2d5-c6b9-4858-d1f1-6854cc179d6f",
        "colab": {
          "base_uri": "https://localhost:8080/",
          "height": 323
        }
      },
      "source": [
        "df.columns"
      ],
      "execution_count": 0,
      "outputs": [
        {
          "output_type": "execute_result",
          "data": {
            "text/plain": [
              "Index(['SID', 'NAME', 'ISO', 'YEAR', 'COORDS', 'COORDS_MAX_WINDS',\n",
              "       'COORDS_MIN_DIST2LAND', 'BASIN', 'SUB BASIN', 'MONTH_START',\n",
              "       'MONTH_END', 'DATE_START', 'DATE_END', 'DATE_LAND_START',\n",
              "       'DATE_LAND_END', 'TOTAL_HOURS_EVENT', 'TOTAL_HOURS_IN_LAND', 'NATURE',\n",
              "       'GENERAL_CATEGORY', 'MAX_WIND', 'MIN_PRES', 'MIN_DIST2LAND',\n",
              "       'MAX_STORMSPEED', 'MAX_USA_SSHS', 'MAX_USA_SSHS_INLAND', 'V_LAND_KN',\n",
              "       'DISTANCE_TRACK', 'DISTANCE_TRACK_VINCENTY', '34KN_POP', '64KN_POP',\n",
              "       '96KN_POP', '64KN_ASSETS', '34KN_ASSETS', '96KN_ASSETS',\n",
              "       'TOTAL_DAMAGE_(000$)', 'TOTAL_DEATHS', 'POP_DEN_SQ_KM', 'RURAL_POP(%)',\n",
              "       'HDI', 'Arable land (hectares per person)',\n",
              "       'Cereal yield (kg per hectare)',\n",
              "       'Food production index (2004-2006 = 100)',\n",
              "       'GDP per capita (constant 2010 US$)', 'Net flows from UN agencies US$',\n",
              "       'Life expectancy at birth, total (years)',\n",
              "       'Adjusted savings: education expenditure (% of GNI)',\n",
              "       'Income_level_Final', 'POP_MAX_34_ADJ', 'POP_MAX_50_ADJ',\n",
              "       'POP_MAX_64_ADJ', 'TOTAL_AFFECTED'],\n",
              "      dtype='object')"
            ]
          },
          "metadata": {
            "tags": []
          },
          "execution_count": 53
        }
      ]
    },
    {
      "cell_type": "code",
      "metadata": {
        "id": "RegFuw1NERoy",
        "colab_type": "code",
        "colab": {}
      },
      "source": [
        "# Arranging columns\n",
        "\n",
        "df = df[[\n",
        "    # cols from cyclones\n",
        "    'SID', 'NAME', 'ISO', 'YEAR', 'COORDS', 'COORDS_MAX_WINDS',\n",
        "       'COORDS_MIN_DIST2LAND', 'BASIN', 'SUB BASIN', 'NATURE', \n",
        "    'MONTH_START',\n",
        "    #'MONTH_END', 'DATE_START', 'DATE_END', 'DATE_LAND_START', 'DATE_LAND_END', \n",
        "    'TOTAL_HOURS_EVENT', 'TOTAL_HOURS_IN_LAND', \n",
        "       'GENERAL_CATEGORY', 'MAX_WIND', 'MIN_PRES', 'MIN_DIST2LAND',\n",
        "       'MAX_STORMSPEED', 'MAX_USA_SSHS', 'MAX_USA_SSHS_INLAND', 'V_LAND_KN',\n",
        "       'DISTANCE_TRACK', 'DISTANCE_TRACK_VINCENTY', '34KN_POP', '64KN_POP',\n",
        "       '96KN_POP', '64KN_ASSETS', '34KN_ASSETS', '96KN_ASSETS',\n",
        "       'TOTAL_DAMAGE_(000$)', 'TOTAL_DEATHS', \n",
        "    \n",
        "\n",
        "    # cols from World Bank Indicators:           \n",
        "    'POP_DEN_SQ_KM', 'RURAL_POP(%)',\n",
        "       'HDI', 'Arable land (hectares per person)',\n",
        "       'Cereal yield (kg per hectare)',\n",
        "       'Food production index (2004-2006 = 100)',\n",
        "       'GDP per capita (constant 2010 US$)', 'Net flows from UN agencies US$',\n",
        "       'Life expectancy at birth, total (years)',\n",
        "       'Adjusted savings: education expenditure (% of GNI)',\n",
        "       'Income_level_Final',\n",
        "    \n",
        "    \n",
        "    # cols from climada:   \n",
        "        'POP_MAX_34_ADJ', 'POP_MAX_50_ADJ','POP_MAX_64_ADJ',\n",
        "    \n",
        "    # Target \n",
        "    'TOTAL_AFFECTED']]"
      ],
      "execution_count": 0,
      "outputs": []
    },
    {
      "cell_type": "code",
      "metadata": {
        "id": "bW83dbYsERpY",
        "colab_type": "code",
        "outputId": "1c42cf50-863f-474f-d60e-8a61f3ef1375",
        "colab": {
          "base_uri": "https://localhost:8080/",
          "height": 451
        }
      },
      "source": [
        "df.head(3)"
      ],
      "execution_count": 0,
      "outputs": [
        {
          "output_type": "execute_result",
          "data": {
            "text/html": [
              "<div>\n",
              "<style scoped>\n",
              "    .dataframe tbody tr th:only-of-type {\n",
              "        vertical-align: middle;\n",
              "    }\n",
              "\n",
              "    .dataframe tbody tr th {\n",
              "        vertical-align: top;\n",
              "    }\n",
              "\n",
              "    .dataframe thead th {\n",
              "        text-align: right;\n",
              "    }\n",
              "</style>\n",
              "<table border=\"1\" class=\"dataframe\">\n",
              "  <thead>\n",
              "    <tr style=\"text-align: right;\">\n",
              "      <th></th>\n",
              "      <th>SID</th>\n",
              "      <th>NAME</th>\n",
              "      <th>ISO</th>\n",
              "      <th>YEAR</th>\n",
              "      <th>COORDS</th>\n",
              "      <th>COORDS_MAX_WINDS</th>\n",
              "      <th>COORDS_MIN_DIST2LAND</th>\n",
              "      <th>BASIN</th>\n",
              "      <th>SUB BASIN</th>\n",
              "      <th>NATURE</th>\n",
              "      <th>MONTH_START</th>\n",
              "      <th>TOTAL_HOURS_EVENT</th>\n",
              "      <th>TOTAL_HOURS_IN_LAND</th>\n",
              "      <th>GENERAL_CATEGORY</th>\n",
              "      <th>MAX_WIND</th>\n",
              "      <th>MIN_PRES</th>\n",
              "      <th>MIN_DIST2LAND</th>\n",
              "      <th>MAX_STORMSPEED</th>\n",
              "      <th>MAX_USA_SSHS</th>\n",
              "      <th>MAX_USA_SSHS_INLAND</th>\n",
              "      <th>V_LAND_KN</th>\n",
              "      <th>DISTANCE_TRACK</th>\n",
              "      <th>DISTANCE_TRACK_VINCENTY</th>\n",
              "      <th>34KN_POP</th>\n",
              "      <th>64KN_POP</th>\n",
              "      <th>96KN_POP</th>\n",
              "      <th>64KN_ASSETS</th>\n",
              "      <th>34KN_ASSETS</th>\n",
              "      <th>96KN_ASSETS</th>\n",
              "      <th>TOTAL_DAMAGE_(000$)</th>\n",
              "      <th>TOTAL_DEATHS</th>\n",
              "      <th>POP_DEN_SQ_KM</th>\n",
              "      <th>RURAL_POP(%)</th>\n",
              "      <th>HDI</th>\n",
              "      <th>Arable land (hectares per person)</th>\n",
              "      <th>Cereal yield (kg per hectare)</th>\n",
              "      <th>Food production index (2004-2006 = 100)</th>\n",
              "      <th>GDP per capita (constant 2010 US$)</th>\n",
              "      <th>Net flows from UN agencies US$</th>\n",
              "      <th>Life expectancy at birth, total (years)</th>\n",
              "      <th>Adjusted savings: education expenditure (% of GNI)</th>\n",
              "      <th>Income_level_Final</th>\n",
              "      <th>POP_MAX_34_ADJ</th>\n",
              "      <th>POP_MAX_50_ADJ</th>\n",
              "      <th>POP_MAX_64_ADJ</th>\n",
              "      <th>TOTAL_AFFECTED</th>\n",
              "    </tr>\n",
              "  </thead>\n",
              "  <tbody>\n",
              "    <tr>\n",
              "      <th>0</th>\n",
              "      <td>1949163N07145</td>\n",
              "      <td>DELLA</td>\n",
              "      <td>JPN</td>\n",
              "      <td>1949</td>\n",
              "      <td>[(21.5, 125.424), (22.2, 125.8), (22.9089, 126...</td>\n",
              "      <td>[(27.6584, 128.82), (28.9141, 129.572999999999...</td>\n",
              "      <td>[(31.9866, 130.683), (33.5183, 130.97299999999...</td>\n",
              "      <td>WP</td>\n",
              "      <td>WP</td>\n",
              "      <td>TS</td>\n",
              "      <td>6</td>\n",
              "      <td>117.0</td>\n",
              "      <td>60.0</td>\n",
              "      <td>Cat 4</td>\n",
              "      <td>116.0</td>\n",
              "      <td>952</td>\n",
              "      <td>0</td>\n",
              "      <td>33.0</td>\n",
              "      <td>3</td>\n",
              "      <td>0</td>\n",
              "      <td>99.82</td>\n",
              "      <td>3889.480640</td>\n",
              "      <td>3632.626180</td>\n",
              "      <td>NaN</td>\n",
              "      <td>NaN</td>\n",
              "      <td>NaN</td>\n",
              "      <td>NaN</td>\n",
              "      <td>NaN</td>\n",
              "      <td>NaN</td>\n",
              "      <td>NaN</td>\n",
              "      <td>419.0</td>\n",
              "      <td>195.0</td>\n",
              "      <td>77.20</td>\n",
              "      <td>0.816</td>\n",
              "      <td>0.059615</td>\n",
              "      <td>4173.5</td>\n",
              "      <td>67.79</td>\n",
              "      <td>8607.657082</td>\n",
              "      <td>0.0</td>\n",
              "      <td>67.666098</td>\n",
              "      <td>2.867878</td>\n",
              "      <td>Low</td>\n",
              "      <td>1.198300e+07</td>\n",
              "      <td>5.803981e+06</td>\n",
              "      <td>3.320907e+06</td>\n",
              "      <td>194046</td>\n",
              "    </tr>\n",
              "    <tr>\n",
              "      <th>1</th>\n",
              "      <td>1950241N23140</td>\n",
              "      <td>JANE</td>\n",
              "      <td>JPN</td>\n",
              "      <td>1950</td>\n",
              "      <td>[(23.8845, 139.74), (23.9335, 139.639), (23.98...</td>\n",
              "      <td>[(28.7509, 133.748), (29.1201, 133.762), (29.6...</td>\n",
              "      <td>[(34.9374, 135.476), (36.1016, 136.095), (37.2...</td>\n",
              "      <td>WP</td>\n",
              "      <td>WP</td>\n",
              "      <td>ET</td>\n",
              "      <td>8</td>\n",
              "      <td>141.0</td>\n",
              "      <td>21.0</td>\n",
              "      <td>Cat 4</td>\n",
              "      <td>116.0</td>\n",
              "      <td>940</td>\n",
              "      <td>0</td>\n",
              "      <td>31.0</td>\n",
              "      <td>3</td>\n",
              "      <td>1</td>\n",
              "      <td>99.82</td>\n",
              "      <td>3596.090691</td>\n",
              "      <td>2787.480021</td>\n",
              "      <td>NaN</td>\n",
              "      <td>NaN</td>\n",
              "      <td>NaN</td>\n",
              "      <td>NaN</td>\n",
              "      <td>NaN</td>\n",
              "      <td>NaN</td>\n",
              "      <td>NaN</td>\n",
              "      <td>509.0</td>\n",
              "      <td>227.0</td>\n",
              "      <td>47.00</td>\n",
              "      <td>0.816</td>\n",
              "      <td>0.059615</td>\n",
              "      <td>4173.5</td>\n",
              "      <td>67.79</td>\n",
              "      <td>8607.657082</td>\n",
              "      <td>0.0</td>\n",
              "      <td>67.666098</td>\n",
              "      <td>2.867878</td>\n",
              "      <td>Low</td>\n",
              "      <td>3.160822e+07</td>\n",
              "      <td>1.559196e+07</td>\n",
              "      <td>1.018936e+07</td>\n",
              "      <td>642117</td>\n",
              "    </tr>\n",
              "    <tr>\n",
              "      <th>2</th>\n",
              "      <td>1951224N12316</td>\n",
              "      <td>CHARLIE</td>\n",
              "      <td>JAM</td>\n",
              "      <td>1951</td>\n",
              "      <td>[(17.3398, -75.4138), (17.6, -76.2), (17.9, -7...</td>\n",
              "      <td>[(17.6, -76.2), (17.9, -76.9)]</td>\n",
              "      <td>[(17.9, -76.9), (18.1, -77.8)]</td>\n",
              "      <td>NAm</td>\n",
              "      <td>CS</td>\n",
              "      <td>TS</td>\n",
              "      <td>8</td>\n",
              "      <td>15.0</td>\n",
              "      <td>3.0</td>\n",
              "      <td>Cat 3</td>\n",
              "      <td>110.0</td>\n",
              "      <td>0</td>\n",
              "      <td>0</td>\n",
              "      <td>17.0</td>\n",
              "      <td>3</td>\n",
              "      <td>3</td>\n",
              "      <td>132.40</td>\n",
              "      <td>438.214691</td>\n",
              "      <td>435.729082</td>\n",
              "      <td>2788659.0</td>\n",
              "      <td>2788659.0</td>\n",
              "      <td>2552903.0</td>\n",
              "      <td>2.148198e+10</td>\n",
              "      <td>2.148198e+10</td>\n",
              "      <td>1.948346e+10</td>\n",
              "      <td>56000.0</td>\n",
              "      <td>154.0</td>\n",
              "      <td>133.0</td>\n",
              "      <td>66.23</td>\n",
              "      <td>0.668</td>\n",
              "      <td>0.100541</td>\n",
              "      <td>868.3</td>\n",
              "      <td>69.93</td>\n",
              "      <td>3796.219401</td>\n",
              "      <td>0.0</td>\n",
              "      <td>64.770000</td>\n",
              "      <td>2.578304</td>\n",
              "      <td>Low</td>\n",
              "      <td>1.689243e+06</td>\n",
              "      <td>1.687083e+06</td>\n",
              "      <td>1.195052e+06</td>\n",
              "      <td>20200</td>\n",
              "    </tr>\n",
              "  </tbody>\n",
              "</table>\n",
              "</div>"
            ],
            "text/plain": [
              "             SID     NAME  ISO  ...  POP_MAX_50_ADJ POP_MAX_64_ADJ TOTAL_AFFECTED\n",
              "0  1949163N07145    DELLA  JPN  ...    5.803981e+06   3.320907e+06         194046\n",
              "1  1950241N23140     JANE  JPN  ...    1.559196e+07   1.018936e+07         642117\n",
              "2  1951224N12316  CHARLIE  JAM  ...    1.687083e+06   1.195052e+06          20200\n",
              "\n",
              "[3 rows x 46 columns]"
            ]
          },
          "metadata": {
            "tags": []
          },
          "execution_count": 55
        }
      ]
    },
    {
      "cell_type": "markdown",
      "metadata": {
        "id": "_JbhZFN0ERp1",
        "colab_type": "text"
      },
      "source": [
        "- **Checking nulls**"
      ]
    },
    {
      "cell_type": "code",
      "metadata": {
        "id": "u86DcZpqERp2",
        "colab_type": "code",
        "colab": {}
      },
      "source": [
        "# Checking quantity of missing data. Reusing code from Fabi\n",
        "def null_cols(data):\n",
        "\n",
        "    \"\"\"\n",
        "    This function takes a dataframe df and shows the columns of df that have NaN values\n",
        "    and the number of them\n",
        "\n",
        "    \"\"\"\n",
        "    nulls = data.isna().sum()\n",
        "    nulls = nulls[nulls > 0] / len(data) * 100\n",
        "    nulls = pd.DataFrame(nulls.sort_values(ascending = False))\n",
        "    nulls = nulls.reset_index().rename(columns = {\"index\": \"Feature\", 0: \"% Null rows\"})\n",
        "    return nulls"
      ],
      "execution_count": 0,
      "outputs": []
    },
    {
      "cell_type": "code",
      "metadata": {
        "id": "cKdvlWftERqY",
        "colab_type": "code",
        "outputId": "a57f0be7-cab4-47a3-8b21-f450fd62c438",
        "colab": {
          "base_uri": "https://localhost:8080/",
          "height": 607
        }
      },
      "source": [
        "null_cols(df)"
      ],
      "execution_count": 0,
      "outputs": [
        {
          "output_type": "execute_result",
          "data": {
            "text/html": [
              "<div>\n",
              "<style scoped>\n",
              "    .dataframe tbody tr th:only-of-type {\n",
              "        vertical-align: middle;\n",
              "    }\n",
              "\n",
              "    .dataframe tbody tr th {\n",
              "        vertical-align: top;\n",
              "    }\n",
              "\n",
              "    .dataframe thead th {\n",
              "        text-align: right;\n",
              "    }\n",
              "</style>\n",
              "<table border=\"1\" class=\"dataframe\">\n",
              "  <thead>\n",
              "    <tr style=\"text-align: right;\">\n",
              "      <th></th>\n",
              "      <th>Feature</th>\n",
              "      <th>% Null rows</th>\n",
              "    </tr>\n",
              "  </thead>\n",
              "  <tbody>\n",
              "    <tr>\n",
              "      <th>0</th>\n",
              "      <td>TOTAL_DAMAGE_(000$)</td>\n",
              "      <td>31.584258</td>\n",
              "    </tr>\n",
              "    <tr>\n",
              "      <th>1</th>\n",
              "      <td>64KN_ASSETS</td>\n",
              "      <td>23.309788</td>\n",
              "    </tr>\n",
              "    <tr>\n",
              "      <th>2</th>\n",
              "      <td>34KN_ASSETS</td>\n",
              "      <td>23.309788</td>\n",
              "    </tr>\n",
              "    <tr>\n",
              "      <th>3</th>\n",
              "      <td>96KN_ASSETS</td>\n",
              "      <td>23.309788</td>\n",
              "    </tr>\n",
              "    <tr>\n",
              "      <th>4</th>\n",
              "      <td>34KN_POP</td>\n",
              "      <td>23.208880</td>\n",
              "    </tr>\n",
              "    <tr>\n",
              "      <th>5</th>\n",
              "      <td>64KN_POP</td>\n",
              "      <td>23.208880</td>\n",
              "    </tr>\n",
              "    <tr>\n",
              "      <th>6</th>\n",
              "      <td>96KN_POP</td>\n",
              "      <td>23.208880</td>\n",
              "    </tr>\n",
              "    <tr>\n",
              "      <th>7</th>\n",
              "      <td>TOTAL_DEATHS</td>\n",
              "      <td>13.118063</td>\n",
              "    </tr>\n",
              "    <tr>\n",
              "      <th>8</th>\n",
              "      <td>POP_MAX_50_ADJ</td>\n",
              "      <td>8.072654</td>\n",
              "    </tr>\n",
              "    <tr>\n",
              "      <th>9</th>\n",
              "      <td>POP_MAX_64_ADJ</td>\n",
              "      <td>8.072654</td>\n",
              "    </tr>\n",
              "    <tr>\n",
              "      <th>10</th>\n",
              "      <td>POP_MAX_34_ADJ</td>\n",
              "      <td>8.072654</td>\n",
              "    </tr>\n",
              "    <tr>\n",
              "      <th>11</th>\n",
              "      <td>Cereal yield (kg per hectare)</td>\n",
              "      <td>1.009082</td>\n",
              "    </tr>\n",
              "    <tr>\n",
              "      <th>12</th>\n",
              "      <td>Adjusted savings: education expenditure (% of ...</td>\n",
              "      <td>1.009082</td>\n",
              "    </tr>\n",
              "    <tr>\n",
              "      <th>13</th>\n",
              "      <td>GDP per capita (constant 2010 US$)</td>\n",
              "      <td>0.908174</td>\n",
              "    </tr>\n",
              "    <tr>\n",
              "      <th>14</th>\n",
              "      <td>Food production index (2004-2006 = 100)</td>\n",
              "      <td>0.403633</td>\n",
              "    </tr>\n",
              "    <tr>\n",
              "      <th>15</th>\n",
              "      <td>Life expectancy at birth, total (years)</td>\n",
              "      <td>0.403633</td>\n",
              "    </tr>\n",
              "    <tr>\n",
              "      <th>16</th>\n",
              "      <td>MAX_STORMSPEED</td>\n",
              "      <td>0.201816</td>\n",
              "    </tr>\n",
              "    <tr>\n",
              "      <th>17</th>\n",
              "      <td>Arable land (hectares per person)</td>\n",
              "      <td>0.100908</td>\n",
              "    </tr>\n",
              "  </tbody>\n",
              "</table>\n",
              "</div>"
            ],
            "text/plain": [
              "                                              Feature  % Null rows\n",
              "0                                 TOTAL_DAMAGE_(000$)    31.584258\n",
              "1                                         64KN_ASSETS    23.309788\n",
              "2                                         34KN_ASSETS    23.309788\n",
              "3                                         96KN_ASSETS    23.309788\n",
              "4                                            34KN_POP    23.208880\n",
              "5                                            64KN_POP    23.208880\n",
              "6                                            96KN_POP    23.208880\n",
              "7                                        TOTAL_DEATHS    13.118063\n",
              "8                                      POP_MAX_50_ADJ     8.072654\n",
              "9                                      POP_MAX_64_ADJ     8.072654\n",
              "10                                     POP_MAX_34_ADJ     8.072654\n",
              "11                      Cereal yield (kg per hectare)     1.009082\n",
              "12  Adjusted savings: education expenditure (% of ...     1.009082\n",
              "13                 GDP per capita (constant 2010 US$)     0.908174\n",
              "14            Food production index (2004-2006 = 100)     0.403633\n",
              "15            Life expectancy at birth, total (years)     0.403633\n",
              "16                                     MAX_STORMSPEED     0.201816\n",
              "17                  Arable land (hectares per person)     0.100908"
            ]
          },
          "metadata": {
            "tags": []
          },
          "execution_count": 57
        }
      ]
    },
    {
      "cell_type": "markdown",
      "metadata": {
        "id": "iKVShBezERqj",
        "colab_type": "text"
      },
      "source": [
        "- **BASIN and SUBBASIN**: 'MM' value means missing, and **USA_SSHS** column with value -5 = Unknown [XX]:"
      ]
    },
    {
      "cell_type": "code",
      "metadata": {
        "id": "SdM3VQ7iERqs",
        "colab_type": "code",
        "colab": {}
      },
      "source": [
        "df[\"SUB BASIN\"]= df[\"SUB BASIN\"].replace('MM', np.nan) \n",
        "df[\"BASIN\"]= df[\"BASIN\"].replace('MM', np.nan) \n",
        "#df[\"USA_SSHS\"]= df[\"USA_SSHS\"].replace(-5, np.nan) "
      ],
      "execution_count": 0,
      "outputs": []
    },
    {
      "cell_type": "markdown",
      "metadata": {
        "id": "2BlIoO5EERrM",
        "colab_type": "text"
      },
      "source": [
        "- As damage in '000 USD is time-money sensitive, we can use the CPI for that data point to calculate **\"Total Damage Adjusted\"** \n",
        "by dividing Total Damage by the CPI. We then drop columns for Damage and CPI.\n",
        "CPI meaning = https://en.wikipedia.org/wiki/Consumer_price_index"
      ]
    },
    {
      "cell_type": "code",
      "metadata": {
        "id": "FnhRWpfiERrP",
        "colab_type": "code",
        "colab": {}
      },
      "source": [
        "#df[\"TOTAL_DAMAGE_(000$)_Adjusted\"]= df[\"TOTAL_DAMAGE_(000$)\"] / df[\"CPI\"]\n",
        "#df[\"TOTAL_DAMAGE_(000$)_Adjusted\"]= df[\"TOTAL_DAMAGE_(000$)_Adjusted\"].replace(0, np.nan)"
      ],
      "execution_count": 0,
      "outputs": []
    },
    {
      "cell_type": "code",
      "metadata": {
        "id": "WEpvkdMIERrq",
        "colab_type": "code",
        "colab": {}
      },
      "source": [
        "#df = df.drop([\"TOTAL_DAMAGE_(000$)\",'CPI'], axis=1)\n",
        "#df[\"TOTAL_DAMAGE_(000$)_Adjusted\"].isna().sum()"
      ],
      "execution_count": 0,
      "outputs": []
    },
    {
      "cell_type": "markdown",
      "metadata": {
        "id": "RPq7PWpqERsB",
        "colab_type": "text"
      },
      "source": [
        "- Trying to create a calculated column that better represents de relative dimension **of exposed assets**. We have several columns for assets exposed depending of windspeed for 34kn+, 64kn+ and 96kn+. Let's add these columns to create a new column:"
      ]
    },
    {
      "cell_type": "code",
      "metadata": {
        "id": "1g3Fruy5ERsD",
        "colab_type": "code",
        "colab": {}
      },
      "source": [
        "df['CALC_assets_emdat'] = df['34KN_ASSETS'] + df['64KN_ASSETS'] + df['96KN_ASSETS']\n",
        "df = df.drop(['34KN_ASSETS', '64KN_ASSETS','96KN_ASSETS'], axis=1)"
      ],
      "execution_count": 0,
      "outputs": []
    },
    {
      "cell_type": "markdown",
      "metadata": {
        "id": "-ugIDKvSERsf",
        "colab_type": "text"
      },
      "source": [
        " - Extracting **month of cyclone**"
      ]
    },
    {
      "cell_type": "code",
      "metadata": {
        "id": "0KN7Qbl5ERsh",
        "colab_type": "code",
        "colab": {}
      },
      "source": [
        "#df['MONTH'] = df.ISO_TIME.apply(lambda x: x[7:9]).astype(int)"
      ],
      "execution_count": 0,
      "outputs": []
    },
    {
      "cell_type": "markdown",
      "metadata": {
        "id": "JzSBLfyrERsr",
        "colab_type": "text"
      },
      "source": [
        "- **Transform 'Income_Level'** categories to ordered integers and **YEAR, BASIN, SUB BASIN and USA_SSHS** into Category Type"
      ]
    },
    {
      "cell_type": "code",
      "metadata": {
        "id": "_dTY2-38ERsu",
        "colab_type": "code",
        "colab": {}
      },
      "source": [
        "#Arnab code\n",
        "unique_list = df['Income_level_Final'].unique()\n",
        "incomelevel_to_int = dict(zip(unique_list, [1,2,4,3])) # so we assign['Low' =1, 'Low_Middle' =2, 'High'=4, 'High_Middle'=3]\n",
        "df['Income_level_Final'] = df['Income_level_Final'].apply(lambda inc_level: incomelevel_to_int[inc_level])"
      ],
      "execution_count": 0,
      "outputs": []
    },
    {
      "cell_type": "code",
      "metadata": {
        "id": "d6ciWGOTERs4",
        "colab_type": "code",
        "colab": {}
      },
      "source": [
        "df['YEAR'] = df['YEAR'].astype('category')\n",
        "df['BASIN'] = df['BASIN'].astype('category')\n",
        "df['SUB BASIN'] = df['SUB BASIN'].astype('category')\n",
        "df['NATURE'] = df['NATURE'].astype('category')\n",
        "df['GENERAL_CATEGORY'] = df['GENERAL_CATEGORY'].astype('category')\n",
        "df['MAX_USA_SSHS']= df['MAX_USA_SSHS'].astype('category')"
      ],
      "execution_count": 0,
      "outputs": []
    },
    {
      "cell_type": "markdown",
      "metadata": {
        "id": "8tWmzuRpERtX",
        "colab_type": "text"
      },
      "source": [
        "- **Create New Column fro 'No Landing'**"
      ]
    },
    {
      "cell_type": "code",
      "metadata": {
        "id": "v56zFbbbERtb",
        "colab_type": "code",
        "colab": {}
      },
      "source": [
        "df['Landing'] = np.where(df['MAX_USA_SSHS_INLAND'] == 'No landing', 0, 1)"
      ],
      "execution_count": 0,
      "outputs": []
    },
    {
      "cell_type": "code",
      "metadata": {
        "id": "tGoRU-niERtn",
        "colab_type": "code",
        "colab": {}
      },
      "source": [
        "#assign np.nan to columns with 'No landing'  value\n",
        "#df[\"DATE_LAND_START\"]= df[\"DATE_LAND_START\"].replace('No landing', np.nan) \n",
        "#df[\"DATE_LAND_END\"]= df[\"DATE_LAND_END\"].replace('No landing', np.nan) \n",
        "df[\"MAX_USA_SSHS_INLAND\"]= df[\"MAX_USA_SSHS_INLAND\"].replace('No landing', np.nan) "
      ],
      "execution_count": 0,
      "outputs": []
    },
    {
      "cell_type": "markdown",
      "metadata": {
        "id": "KgPH8znzERt3",
        "colab_type": "text"
      },
      "source": [
        "- **Arranging columns**"
      ]
    },
    {
      "cell_type": "code",
      "metadata": {
        "id": "8y38HI2TERt9",
        "colab_type": "code",
        "outputId": "802c4313-d91f-45d6-bc71-9fa0e0751325",
        "colab": {
          "base_uri": "https://localhost:8080/",
          "height": 34
        }
      },
      "source": [
        "df.shape"
      ],
      "execution_count": 0,
      "outputs": [
        {
          "output_type": "execute_result",
          "data": {
            "text/plain": [
              "(991, 45)"
            ]
          },
          "metadata": {
            "tags": []
          },
          "execution_count": 67
        }
      ]
    },
    {
      "cell_type": "code",
      "metadata": {
        "id": "i1rN_jc5ERuH",
        "colab_type": "code",
        "outputId": "e99df523-fa50-40c8-c838-ac9c6207f33b",
        "colab": {
          "base_uri": "https://localhost:8080/",
          "height": 901
        }
      },
      "source": [
        "df.info()"
      ],
      "execution_count": 0,
      "outputs": [
        {
          "output_type": "stream",
          "text": [
            "<class 'pandas.core.frame.DataFrame'>\n",
            "RangeIndex: 991 entries, 0 to 990\n",
            "Data columns (total 45 columns):\n",
            " #   Column                                              Non-Null Count  Dtype   \n",
            "---  ------                                              --------------  -----   \n",
            " 0   SID                                                 991 non-null    object  \n",
            " 1   NAME                                                991 non-null    object  \n",
            " 2   ISO                                                 991 non-null    object  \n",
            " 3   YEAR                                                991 non-null    category\n",
            " 4   COORDS                                              991 non-null    object  \n",
            " 5   COORDS_MAX_WINDS                                    991 non-null    object  \n",
            " 6   COORDS_MIN_DIST2LAND                                991 non-null    object  \n",
            " 7   BASIN                                               991 non-null    category\n",
            " 8   SUB BASIN                                           991 non-null    category\n",
            " 9   NATURE                                              991 non-null    category\n",
            " 10  MONTH_START                                         991 non-null    int64   \n",
            " 11  TOTAL_HOURS_EVENT                                   991 non-null    float64 \n",
            " 12  TOTAL_HOURS_IN_LAND                                 991 non-null    float64 \n",
            " 13  GENERAL_CATEGORY                                    991 non-null    category\n",
            " 14  MAX_WIND                                            991 non-null    float64 \n",
            " 15  MIN_PRES                                            991 non-null    int64   \n",
            " 16  MIN_DIST2LAND                                       991 non-null    int64   \n",
            " 17  MAX_STORMSPEED                                      989 non-null    float64 \n",
            " 18  MAX_USA_SSHS                                        991 non-null    category\n",
            " 19  MAX_USA_SSHS_INLAND                                 773 non-null    object  \n",
            " 20  V_LAND_KN                                           991 non-null    float64 \n",
            " 21  DISTANCE_TRACK                                      991 non-null    float64 \n",
            " 22  DISTANCE_TRACK_VINCENTY                             991 non-null    float64 \n",
            " 23  34KN_POP                                            761 non-null    float64 \n",
            " 24  64KN_POP                                            761 non-null    float64 \n",
            " 25  96KN_POP                                            761 non-null    float64 \n",
            " 26  TOTAL_DAMAGE_(000$)                                 678 non-null    float64 \n",
            " 27  TOTAL_DEATHS                                        861 non-null    float64 \n",
            " 28  POP_DEN_SQ_KM                                       991 non-null    float64 \n",
            " 29  RURAL_POP(%)                                        991 non-null    float64 \n",
            " 30  HDI                                                 991 non-null    float64 \n",
            " 31  Arable land (hectares per person)                   990 non-null    float64 \n",
            " 32  Cereal yield (kg per hectare)                       981 non-null    float64 \n",
            " 33  Food production index (2004-2006 = 100)             987 non-null    float64 \n",
            " 34  GDP per capita (constant 2010 US$)                  982 non-null    float64 \n",
            " 35  Net flows from UN agencies US$                      991 non-null    float64 \n",
            " 36  Life expectancy at birth, total (years)             987 non-null    float64 \n",
            " 37  Adjusted savings: education expenditure (% of GNI)  981 non-null    float64 \n",
            " 38  Income_level_Final                                  991 non-null    int64   \n",
            " 39  POP_MAX_34_ADJ                                      911 non-null    float64 \n",
            " 40  POP_MAX_50_ADJ                                      911 non-null    float64 \n",
            " 41  POP_MAX_64_ADJ                                      911 non-null    float64 \n",
            " 42  TOTAL_AFFECTED                                      991 non-null    int64   \n",
            " 43  CALC_assets_emdat                                   760 non-null    float64 \n",
            " 44  Landing                                             991 non-null    int64   \n",
            "dtypes: category(6), float64(26), int64(6), object(7)\n",
            "memory usage: 312.5+ KB\n"
          ],
          "name": "stdout"
        }
      ]
    },
    {
      "cell_type": "code",
      "metadata": {
        "id": "ssQALqRrERun",
        "colab_type": "code",
        "colab": {}
      },
      "source": [
        "df[\"MAX_USA_SSHS_INLAND\"] = df['MAX_USA_SSHS_INLAND'].astype(float)"
      ],
      "execution_count": 0,
      "outputs": []
    },
    {
      "cell_type": "code",
      "metadata": {
        "id": "pUGtwZjYERu_",
        "colab_type": "code",
        "outputId": "43c3b439-0976-4fa2-9bec-8614f0c1c0d9",
        "colab": {
          "base_uri": "https://localhost:8080/",
          "height": 170
        }
      },
      "source": [
        "df[\"MAX_USA_SSHS_INLAND\"].describe()"
      ],
      "execution_count": 0,
      "outputs": [
        {
          "output_type": "execute_result",
          "data": {
            "text/plain": [
              "count    773.000000\n",
              "mean       0.815006\n",
              "std        1.620204\n",
              "min       -6.000000\n",
              "25%        0.000000\n",
              "50%        0.000000\n",
              "75%        2.000000\n",
              "max        5.000000\n",
              "Name: MAX_USA_SSHS_INLAND, dtype: float64"
            ]
          },
          "metadata": {
            "tags": []
          },
          "execution_count": 70
        }
      ]
    },
    {
      "cell_type": "code",
      "metadata": {
        "id": "Q0jsZ8t3ERvV",
        "colab_type": "code",
        "outputId": "513b0cd9-4647-44d4-cd35-9ef274f1897f",
        "colab": {
          "base_uri": "https://localhost:8080/",
          "height": 34
        }
      },
      "source": [
        "df.shape"
      ],
      "execution_count": 0,
      "outputs": [
        {
          "output_type": "execute_result",
          "data": {
            "text/plain": [
              "(991, 45)"
            ]
          },
          "metadata": {
            "tags": []
          },
          "execution_count": 71
        }
      ]
    },
    {
      "cell_type": "code",
      "metadata": {
        "scrolled": false,
        "id": "gYWsrB6YERvf",
        "colab_type": "code",
        "outputId": "e20678c3-1bd4-4065-b49b-6c4d05ec0a7c",
        "colab": {
          "base_uri": "https://localhost:8080/",
          "height": 289
        }
      },
      "source": [
        "df.columns"
      ],
      "execution_count": 0,
      "outputs": [
        {
          "output_type": "execute_result",
          "data": {
            "text/plain": [
              "Index(['SID', 'NAME', 'ISO', 'YEAR', 'COORDS', 'COORDS_MAX_WINDS',\n",
              "       'COORDS_MIN_DIST2LAND', 'BASIN', 'SUB BASIN', 'NATURE', 'MONTH_START',\n",
              "       'TOTAL_HOURS_EVENT', 'TOTAL_HOURS_IN_LAND', 'GENERAL_CATEGORY',\n",
              "       'MAX_WIND', 'MIN_PRES', 'MIN_DIST2LAND', 'MAX_STORMSPEED',\n",
              "       'MAX_USA_SSHS', 'MAX_USA_SSHS_INLAND', 'V_LAND_KN', 'DISTANCE_TRACK',\n",
              "       'DISTANCE_TRACK_VINCENTY', '34KN_POP', '64KN_POP', '96KN_POP',\n",
              "       'TOTAL_DAMAGE_(000$)', 'TOTAL_DEATHS', 'POP_DEN_SQ_KM', 'RURAL_POP(%)',\n",
              "       'HDI', 'Arable land (hectares per person)',\n",
              "       'Cereal yield (kg per hectare)',\n",
              "       'Food production index (2004-2006 = 100)',\n",
              "       'GDP per capita (constant 2010 US$)', 'Net flows from UN agencies US$',\n",
              "       'Life expectancy at birth, total (years)',\n",
              "       'Adjusted savings: education expenditure (% of GNI)',\n",
              "       'Income_level_Final', 'POP_MAX_34_ADJ', 'POP_MAX_50_ADJ',\n",
              "       'POP_MAX_64_ADJ', 'TOTAL_AFFECTED', 'CALC_assets_emdat', 'Landing'],\n",
              "      dtype='object')"
            ]
          },
          "metadata": {
            "tags": []
          },
          "execution_count": 72
        }
      ]
    },
    {
      "cell_type": "code",
      "metadata": {
        "id": "mA5fd6PWERv5",
        "colab_type": "code",
        "colab": {}
      },
      "source": [
        "#taking out from model=    'SID', 'NAME', 'ISO', 'YEAR', 'COORDS', 'COORDS_MAX_WINDS','COORDS_MIN_DIST2LAND', \n",
        "# Arranging columns\n",
        "\n",
        "df = df[[\n",
        "    # cols from cyclones\n",
        "    'BASIN', 'SUB BASIN', 'NATURE', 'MONTH_START',\n",
        "       'TOTAL_HOURS_EVENT', 'TOTAL_HOURS_IN_LAND', 'GENERAL_CATEGORY',\n",
        "       'MAX_WIND', 'MIN_PRES', 'MIN_DIST2LAND', 'MAX_STORMSPEED',\n",
        "       'MAX_USA_SSHS', 'MAX_USA_SSHS_INLAND', 'V_LAND_KN', 'DISTANCE_TRACK',\n",
        "       'DISTANCE_TRACK_VINCENTY', '34KN_POP', '64KN_POP', '96KN_POP',\n",
        "       'TOTAL_DAMAGE_(000$)', 'CALC_assets_emdat', 'Landing', \n",
        "    'TOTAL_DEATHS',\n",
        "    \n",
        "\n",
        "    # cols from World Bank Indicators:           \n",
        "    'POP_DEN_SQ_KM', 'RURAL_POP(%)',\n",
        "       'HDI', 'Arable land (hectares per person)',\n",
        "       'Cereal yield (kg per hectare)',\n",
        "       'Food production index (2004-2006 = 100)',\n",
        "       'GDP per capita (constant 2010 US$)', 'Net flows from UN agencies US$',\n",
        "       'Life expectancy at birth, total (years)',\n",
        "       'Adjusted savings: education expenditure (% of GNI)',\n",
        "       'Income_level_Final',\n",
        "    \n",
        "    \n",
        "    # cols from climada:   \n",
        "        'POP_MAX_34_ADJ', 'POP_MAX_50_ADJ', 'POP_MAX_64_ADJ',\n",
        "    \n",
        "    # Target \n",
        "    'TOTAL_AFFECTED']]"
      ],
      "execution_count": 0,
      "outputs": []
    },
    {
      "cell_type": "markdown",
      "metadata": {
        "id": "1R1BouveERwE",
        "colab_type": "text"
      },
      "source": [
        "- **Check SKEWENESS and apply log**"
      ]
    },
    {
      "cell_type": "code",
      "metadata": {
        "id": "xckwzhX5ERwG",
        "colab_type": "code",
        "colab": {}
      },
      "source": [
        "#determine index for continous variables\n",
        "num_feats = df.dtypes[df.dtypes != 'object'].index\n",
        "\n",
        "#Calculate skew and sort\n",
        "skew_feats = df[num_feats].skew().sort_values(ascending = False)\n",
        "skewness = pd.DataFrame({'Skew': skew_feats})"
      ],
      "execution_count": 0,
      "outputs": []
    },
    {
      "cell_type": "code",
      "metadata": {
        "id": "JlrhirHuERwY",
        "colab_type": "code",
        "outputId": "26185aed-c931-4854-db28-de1d97c994a2",
        "colab": {
          "base_uri": "https://localhost:8080/",
          "height": 1000
        }
      },
      "source": [
        "skewness"
      ],
      "execution_count": 0,
      "outputs": [
        {
          "output_type": "execute_result",
          "data": {
            "text/html": [
              "<div>\n",
              "<style scoped>\n",
              "    .dataframe tbody tr th:only-of-type {\n",
              "        vertical-align: middle;\n",
              "    }\n",
              "\n",
              "    .dataframe tbody tr th {\n",
              "        vertical-align: top;\n",
              "    }\n",
              "\n",
              "    .dataframe thead th {\n",
              "        text-align: right;\n",
              "    }\n",
              "</style>\n",
              "<table border=\"1\" class=\"dataframe\">\n",
              "  <thead>\n",
              "    <tr style=\"text-align: right;\">\n",
              "      <th></th>\n",
              "      <th>Skew</th>\n",
              "    </tr>\n",
              "  </thead>\n",
              "  <tbody>\n",
              "    <tr>\n",
              "      <th>V_LAND_KN</th>\n",
              "      <td>31.476292</td>\n",
              "    </tr>\n",
              "    <tr>\n",
              "      <th>TOTAL_DEATHS</th>\n",
              "      <td>28.415189</td>\n",
              "    </tr>\n",
              "    <tr>\n",
              "      <th>TOTAL_DAMAGE_(000$)</th>\n",
              "      <td>11.715782</td>\n",
              "    </tr>\n",
              "    <tr>\n",
              "      <th>TOTAL_AFFECTED</th>\n",
              "      <td>7.297631</td>\n",
              "    </tr>\n",
              "    <tr>\n",
              "      <th>96KN_POP</th>\n",
              "      <td>6.794800</td>\n",
              "    </tr>\n",
              "    <tr>\n",
              "      <th>Arable land (hectares per person)</th>\n",
              "      <td>5.355443</td>\n",
              "    </tr>\n",
              "    <tr>\n",
              "      <th>POP_MAX_50_ADJ</th>\n",
              "      <td>4.316617</td>\n",
              "    </tr>\n",
              "    <tr>\n",
              "      <th>TOTAL_HOURS_IN_LAND</th>\n",
              "      <td>3.992451</td>\n",
              "    </tr>\n",
              "    <tr>\n",
              "      <th>POP_MAX_64_ADJ</th>\n",
              "      <td>3.731450</td>\n",
              "    </tr>\n",
              "    <tr>\n",
              "      <th>POP_MAX_34_ADJ</th>\n",
              "      <td>3.270495</td>\n",
              "    </tr>\n",
              "    <tr>\n",
              "      <th>64KN_POP</th>\n",
              "      <td>2.948947</td>\n",
              "    </tr>\n",
              "    <tr>\n",
              "      <th>CALC_assets_emdat</th>\n",
              "      <td>2.858123</td>\n",
              "    </tr>\n",
              "    <tr>\n",
              "      <th>MIN_DIST2LAND</th>\n",
              "      <td>2.692477</td>\n",
              "    </tr>\n",
              "    <tr>\n",
              "      <th>Adjusted savings: education expenditure (% of GNI)</th>\n",
              "      <td>2.355909</td>\n",
              "    </tr>\n",
              "    <tr>\n",
              "      <th>Net flows from UN agencies US$</th>\n",
              "      <td>2.178199</td>\n",
              "    </tr>\n",
              "    <tr>\n",
              "      <th>POP_DEN_SQ_KM</th>\n",
              "      <td>1.960783</td>\n",
              "    </tr>\n",
              "    <tr>\n",
              "      <th>MAX_STORMSPEED</th>\n",
              "      <td>1.908099</td>\n",
              "    </tr>\n",
              "    <tr>\n",
              "      <th>GDP per capita (constant 2010 US$)</th>\n",
              "      <td>1.850448</td>\n",
              "    </tr>\n",
              "    <tr>\n",
              "      <th>TOTAL_HOURS_EVENT</th>\n",
              "      <td>1.759685</td>\n",
              "    </tr>\n",
              "    <tr>\n",
              "      <th>34KN_POP</th>\n",
              "      <td>1.691181</td>\n",
              "    </tr>\n",
              "    <tr>\n",
              "      <th>DISTANCE_TRACK</th>\n",
              "      <td>1.115766</td>\n",
              "    </tr>\n",
              "    <tr>\n",
              "      <th>DISTANCE_TRACK_VINCENTY</th>\n",
              "      <td>0.848870</td>\n",
              "    </tr>\n",
              "    <tr>\n",
              "      <th>Cereal yield (kg per hectare)</th>\n",
              "      <td>0.322566</td>\n",
              "    </tr>\n",
              "    <tr>\n",
              "      <th>Income_level_Final</th>\n",
              "      <td>0.289024</td>\n",
              "    </tr>\n",
              "    <tr>\n",
              "      <th>MAX_WIND</th>\n",
              "      <td>0.115019</td>\n",
              "    </tr>\n",
              "    <tr>\n",
              "      <th>MAX_USA_SSHS_INLAND</th>\n",
              "      <td>0.083235</td>\n",
              "    </tr>\n",
              "    <tr>\n",
              "      <th>MAX_USA_SSHS</th>\n",
              "      <td>-0.058921</td>\n",
              "    </tr>\n",
              "    <tr>\n",
              "      <th>HDI</th>\n",
              "      <td>-0.121026</td>\n",
              "    </tr>\n",
              "    <tr>\n",
              "      <th>RURAL_POP(%)</th>\n",
              "      <td>-0.171154</td>\n",
              "    </tr>\n",
              "    <tr>\n",
              "      <th>Food production index (2004-2006 = 100)</th>\n",
              "      <td>-0.479344</td>\n",
              "    </tr>\n",
              "    <tr>\n",
              "      <th>MONTH_START</th>\n",
              "      <td>-0.957556</td>\n",
              "    </tr>\n",
              "    <tr>\n",
              "      <th>Life expectancy at birth, total (years)</th>\n",
              "      <td>-1.006929</td>\n",
              "    </tr>\n",
              "    <tr>\n",
              "      <th>Landing</th>\n",
              "      <td>-1.354045</td>\n",
              "    </tr>\n",
              "    <tr>\n",
              "      <th>MIN_PRES</th>\n",
              "      <td>-6.401685</td>\n",
              "    </tr>\n",
              "  </tbody>\n",
              "</table>\n",
              "</div>"
            ],
            "text/plain": [
              "                                                         Skew\n",
              "V_LAND_KN                                           31.476292\n",
              "TOTAL_DEATHS                                        28.415189\n",
              "TOTAL_DAMAGE_(000$)                                 11.715782\n",
              "TOTAL_AFFECTED                                       7.297631\n",
              "96KN_POP                                             6.794800\n",
              "Arable land (hectares per person)                    5.355443\n",
              "POP_MAX_50_ADJ                                       4.316617\n",
              "TOTAL_HOURS_IN_LAND                                  3.992451\n",
              "POP_MAX_64_ADJ                                       3.731450\n",
              "POP_MAX_34_ADJ                                       3.270495\n",
              "64KN_POP                                             2.948947\n",
              "CALC_assets_emdat                                    2.858123\n",
              "MIN_DIST2LAND                                        2.692477\n",
              "Adjusted savings: education expenditure (% of GNI)   2.355909\n",
              "Net flows from UN agencies US$                       2.178199\n",
              "POP_DEN_SQ_KM                                        1.960783\n",
              "MAX_STORMSPEED                                       1.908099\n",
              "GDP per capita (constant 2010 US$)                   1.850448\n",
              "TOTAL_HOURS_EVENT                                    1.759685\n",
              "34KN_POP                                             1.691181\n",
              "DISTANCE_TRACK                                       1.115766\n",
              "DISTANCE_TRACK_VINCENTY                              0.848870\n",
              "Cereal yield (kg per hectare)                        0.322566\n",
              "Income_level_Final                                   0.289024\n",
              "MAX_WIND                                             0.115019\n",
              "MAX_USA_SSHS_INLAND                                  0.083235\n",
              "MAX_USA_SSHS                                        -0.058921\n",
              "HDI                                                 -0.121026\n",
              "RURAL_POP(%)                                        -0.171154\n",
              "Food production index (2004-2006 = 100)             -0.479344\n",
              "MONTH_START                                         -0.957556\n",
              "Life expectancy at birth, total (years)             -1.006929\n",
              "Landing                                             -1.354045\n",
              "MIN_PRES                                            -6.401685"
            ]
          },
          "metadata": {
            "tags": []
          },
          "execution_count": 75
        }
      ]
    },
    {
      "cell_type": "code",
      "metadata": {
        "id": "XQQTpJ6dERwo",
        "colab_type": "code",
        "outputId": "94856ae5-ddd4-4fb4-a33d-5151882445e0",
        "colab": {
          "base_uri": "https://localhost:8080/",
          "height": 554
        }
      },
      "source": [
        "# Checking distribution for one feature---reusing code from Juber\n",
        "ax=sns.distplot(df['TOTAL_AFFECTED'].values)\n",
        "\n",
        "plt.show()\n",
        "plt.clf()\n",
        "\n",
        "log_affected=np.log(df['TOTAL_AFFECTED'].values)\n",
        "ax=sns.distplot(log_affected)\n",
        "\n",
        "plt.show()\n",
        "plt.clf()"
      ],
      "execution_count": 0,
      "outputs": [
        {
          "output_type": "display_data",
          "data": {
            "image/png": "[encoded data removed]",
            "text/plain": [
              "<Figure size 432x288 with 1 Axes>"
            ]
          },
          "metadata": {
            "tags": [],
            "needs_background": "light"
          }
        },
        {
          "output_type": "display_data",
          "data": {
            "image/png": "[encoded data removed]",
            "text/plain": [
              "<Figure size 432x288 with 1 Axes>"
            ]
          },
          "metadata": {
            "tags": [],
            "needs_background": "light"
          }
        },
        {
          "output_type": "display_data",
          "data": {
            "text/plain": [
              "<Figure size 432x288 with 0 Axes>"
            ]
          },
          "metadata": {
            "tags": []
          }
        }
      ]
    },
    {
      "cell_type": "code",
      "metadata": {
        "id": "eQhzqYt3ERxA",
        "colab_type": "code",
        "colab": {}
      },
      "source": [
        "# Creating list of features to transform, for skew values above 2.02\n",
        "\n",
        "feats_to_log = skewness[skewness['Skew'] > 2.02].index"
      ],
      "execution_count": 0,
      "outputs": []
    },
    {
      "cell_type": "code",
      "metadata": {
        "id": "ehyj5rVWERxL",
        "colab_type": "code",
        "outputId": "7c58d61d-9c36-48a9-f563-4e7b81badab1",
        "colab": {
          "base_uri": "https://localhost:8080/",
          "height": 136
        }
      },
      "source": [
        "feats_to_log"
      ],
      "execution_count": 0,
      "outputs": [
        {
          "output_type": "execute_result",
          "data": {
            "text/plain": [
              "Index(['V_LAND_KN', 'TOTAL_DEATHS', 'TOTAL_DAMAGE_(000$)', 'TOTAL_AFFECTED',\n",
              "       '96KN_POP', 'Arable land (hectares per person)', 'POP_MAX_50_ADJ',\n",
              "       'TOTAL_HOURS_IN_LAND', 'POP_MAX_64_ADJ', 'POP_MAX_34_ADJ', '64KN_POP',\n",
              "       'CALC_assets_emdat', 'MIN_DIST2LAND',\n",
              "       'Adjusted savings: education expenditure (% of GNI)',\n",
              "       'Net flows from UN agencies US$'],\n",
              "      dtype='object')"
            ]
          },
          "metadata": {
            "tags": []
          },
          "execution_count": 78
        }
      ]
    },
    {
      "cell_type": "code",
      "metadata": {
        "id": "hmFPaDnHERxQ",
        "colab_type": "code",
        "colab": {}
      },
      "source": [
        "# as log cannot be perfomed to negative numbers, a common technique for handling negative values is to \n",
        "# add a constant value to the data prior to applying the log transform. The transformation is \n",
        "#therefore log(Y+a) where a is the constant. Some people like to choose a so that min(Y+a) is a very small \n",
        "#positive number (like 0.001). Others choose a so that min(Y+a) = 1. For the latter choice, you can show \n",
        "# that a = b – min(Y), where b is either a small number or is 1.\n",
        "# Source : https://blogs.sas.com/content/iml/2011/04/27/log-transformations-how-to-handle-negative-data-values.html\n",
        "\n",
        "for item in feats_to_log:\n",
        "    #df[item]=np.log((df[item] + 1 - df[item].min()).values)\n",
        "    df[item] = df[item].apply(lambda x: np.log(x) if x>0 else 0)\n",
        "    "
      ],
      "execution_count": 0,
      "outputs": []
    },
    {
      "cell_type": "code",
      "metadata": {
        "id": "SXJpS65EERxW",
        "colab_type": "code",
        "outputId": "e64260e4-d2f4-4686-e47c-03dcdbb52977",
        "colab": {
          "base_uri": "https://localhost:8080/",
          "height": 385
        }
      },
      "source": [
        "df[feats_to_log].describe()"
      ],
      "execution_count": 0,
      "outputs": [
        {
          "output_type": "execute_result",
          "data": {
            "text/html": [
              "<div>\n",
              "<style scoped>\n",
              "    .dataframe tbody tr th:only-of-type {\n",
              "        vertical-align: middle;\n",
              "    }\n",
              "\n",
              "    .dataframe tbody tr th {\n",
              "        vertical-align: top;\n",
              "    }\n",
              "\n",
              "    .dataframe thead th {\n",
              "        text-align: right;\n",
              "    }\n",
              "</style>\n",
              "<table border=\"1\" class=\"dataframe\">\n",
              "  <thead>\n",
              "    <tr style=\"text-align: right;\">\n",
              "      <th></th>\n",
              "      <th>V_LAND_KN</th>\n",
              "      <th>TOTAL_DEATHS</th>\n",
              "      <th>TOTAL_DAMAGE_(000$)</th>\n",
              "      <th>TOTAL_AFFECTED</th>\n",
              "      <th>96KN_POP</th>\n",
              "      <th>Arable land (hectares per person)</th>\n",
              "      <th>POP_MAX_50_ADJ</th>\n",
              "      <th>TOTAL_HOURS_IN_LAND</th>\n",
              "      <th>POP_MAX_64_ADJ</th>\n",
              "      <th>POP_MAX_34_ADJ</th>\n",
              "      <th>64KN_POP</th>\n",
              "      <th>CALC_assets_emdat</th>\n",
              "      <th>MIN_DIST2LAND</th>\n",
              "      <th>Adjusted savings: education expenditure (% of GNI)</th>\n",
              "      <th>Net flows from UN agencies US$</th>\n",
              "    </tr>\n",
              "  </thead>\n",
              "  <tbody>\n",
              "    <tr>\n",
              "      <th>count</th>\n",
              "      <td>991.000000</td>\n",
              "      <td>991.000000</td>\n",
              "      <td>991.000000</td>\n",
              "      <td>991.000000</td>\n",
              "      <td>991.000000</td>\n",
              "      <td>991.000000</td>\n",
              "      <td>991.000000</td>\n",
              "      <td>991.000000</td>\n",
              "      <td>991.000000</td>\n",
              "      <td>991.000000</td>\n",
              "      <td>991.000000</td>\n",
              "      <td>991.000000</td>\n",
              "      <td>991.000000</td>\n",
              "      <td>991.000000</td>\n",
              "      <td>991.000000</td>\n",
              "    </tr>\n",
              "    <tr>\n",
              "      <th>mean</th>\n",
              "      <td>4.440666</td>\n",
              "      <td>2.581518</td>\n",
              "      <td>7.634230</td>\n",
              "      <td>10.086995</td>\n",
              "      <td>4.178269</td>\n",
              "      <td>-2.198147</td>\n",
              "      <td>13.440581</td>\n",
              "      <td>1.894751</td>\n",
              "      <td>11.811131</td>\n",
              "      <td>14.579118</td>\n",
              "      <td>8.124430</td>\n",
              "      <td>19.169811</td>\n",
              "      <td>0.878179</td>\n",
              "      <td>1.041226</td>\n",
              "      <td>12.844241</td>\n",
              "    </tr>\n",
              "    <tr>\n",
              "      <th>std</th>\n",
              "      <td>0.445265</td>\n",
              "      <td>1.897505</td>\n",
              "      <td>5.631716</td>\n",
              "      <td>3.102598</td>\n",
              "      <td>6.142951</td>\n",
              "      <td>0.895685</td>\n",
              "      <td>5.166569</td>\n",
              "      <td>1.581078</td>\n",
              "      <td>5.680212</td>\n",
              "      <td>4.828227</td>\n",
              "      <td>7.289062</td>\n",
              "      <td>11.197377</td>\n",
              "      <td>1.706180</td>\n",
              "      <td>0.495848</td>\n",
              "      <td>7.012986</td>\n",
              "    </tr>\n",
              "    <tr>\n",
              "      <th>min</th>\n",
              "      <td>3.401197</td>\n",
              "      <td>0.000000</td>\n",
              "      <td>0.000000</td>\n",
              "      <td>0.693147</td>\n",
              "      <td>0.000000</td>\n",
              "      <td>-5.423870</td>\n",
              "      <td>0.000000</td>\n",
              "      <td>-0.693147</td>\n",
              "      <td>0.000000</td>\n",
              "      <td>0.000000</td>\n",
              "      <td>0.000000</td>\n",
              "      <td>0.000000</td>\n",
              "      <td>0.000000</td>\n",
              "      <td>-0.618261</td>\n",
              "      <td>0.000000</td>\n",
              "    </tr>\n",
              "    <tr>\n",
              "      <th>25%</th>\n",
              "      <td>4.138361</td>\n",
              "      <td>1.098612</td>\n",
              "      <td>0.000000</td>\n",
              "      <td>8.018896</td>\n",
              "      <td>0.000000</td>\n",
              "      <td>-2.814166</td>\n",
              "      <td>13.210954</td>\n",
              "      <td>0.000000</td>\n",
              "      <td>11.292152</td>\n",
              "      <td>14.467834</td>\n",
              "      <td>0.000000</td>\n",
              "      <td>17.291178</td>\n",
              "      <td>0.000000</td>\n",
              "      <td>0.609766</td>\n",
              "      <td>13.845069</td>\n",
              "    </tr>\n",
              "    <tr>\n",
              "      <th>50%</th>\n",
              "      <td>4.497585</td>\n",
              "      <td>2.484907</td>\n",
              "      <td>9.680344</td>\n",
              "      <td>10.308953</td>\n",
              "      <td>0.000000</td>\n",
              "      <td>-2.362625</td>\n",
              "      <td>15.077483</td>\n",
              "      <td>1.791759</td>\n",
              "      <td>14.019712</td>\n",
              "      <td>16.057954</td>\n",
              "      <td>11.513145</td>\n",
              "      <td>24.508645</td>\n",
              "      <td>0.000000</td>\n",
              "      <td>1.029619</td>\n",
              "      <td>16.325922</td>\n",
              "    </tr>\n",
              "    <tr>\n",
              "      <th>75%</th>\n",
              "      <td>4.747537</td>\n",
              "      <td>3.850148</td>\n",
              "      <td>12.206073</td>\n",
              "      <td>12.413181</td>\n",
              "      <td>10.945113</td>\n",
              "      <td>-1.642416</td>\n",
              "      <td>16.525255</td>\n",
              "      <td>3.178054</td>\n",
              "      <td>15.435987</td>\n",
              "      <td>17.208886</td>\n",
              "      <td>15.194754</td>\n",
              "      <td>26.779700</td>\n",
              "      <td>0.000000</td>\n",
              "      <td>1.451725</td>\n",
              "      <td>17.263907</td>\n",
              "    </tr>\n",
              "    <tr>\n",
              "      <th>max</th>\n",
              "      <td>11.614498</td>\n",
              "      <td>11.837658</td>\n",
              "      <td>18.643824</td>\n",
              "      <td>17.204028</td>\n",
              "      <td>17.419063</td>\n",
              "      <td>1.121473</td>\n",
              "      <td>19.590919</td>\n",
              "      <td>5.808142</td>\n",
              "      <td>18.491778</td>\n",
              "      <td>19.746421</td>\n",
              "      <td>17.919354</td>\n",
              "      <td>30.327386</td>\n",
              "      <td>5.293305</td>\n",
              "      <td>2.639771</td>\n",
              "      <td>19.029087</td>\n",
              "    </tr>\n",
              "  </tbody>\n",
              "</table>\n",
              "</div>"
            ],
            "text/plain": [
              "        V_LAND_KN  ...  Net flows from UN agencies US$\n",
              "count  991.000000  ...                      991.000000\n",
              "mean     4.440666  ...                       12.844241\n",
              "std      0.445265  ...                        7.012986\n",
              "min      3.401197  ...                        0.000000\n",
              "25%      4.138361  ...                       13.845069\n",
              "50%      4.497585  ...                       16.325922\n",
              "75%      4.747537  ...                       17.263907\n",
              "max     11.614498  ...                       19.029087\n",
              "\n",
              "[8 rows x 15 columns]"
            ]
          },
          "metadata": {
            "tags": []
          },
          "execution_count": 80
        }
      ]
    },
    {
      "cell_type": "code",
      "metadata": {
        "id": "wt_O8rkdER9b",
        "colab_type": "code",
        "outputId": "0b0609c7-a9a3-42b6-d5a2-66e171dfe17d",
        "colab": {
          "base_uri": "https://localhost:8080/",
          "height": 1000
        }
      },
      "source": [
        "for item in feats_to_log:\n",
        "    ax=sns.distplot(df[item].values)\n",
        "    ax.set_title(item);\n",
        "    plt.show()\n",
        "    plt.clf()\n"
      ],
      "execution_count": 0,
      "outputs": [
        {
          "output_type": "display_data",
          "data": {
            "image/png": "[encoded data removed]",
            "text/plain": [
              "<Figure size 432x288 with 1 Axes>"
            ]
          },
          "metadata": {
            "tags": [],
            "needs_background": "light"
          }
        },
        {
          "output_type": "display_data",
          "data": {
            "image/png": "[encoded data removed]",
            "text/plain": [
              "<Figure size 432x288 with 1 Axes>"
            ]
          },
          "metadata": {
            "tags": [],
            "needs_background": "light"
          }
        },
        {
          "output_type": "display_data",
          "data": {
            "image/png": "[encoded data removed]",
            "text/plain": [
              "<Figure size 432x288 with 1 Axes>"
            ]
          },
          "metadata": {
            "tags": [],
            "needs_background": "light"
          }
        },
        {
          "output_type": "display_data",
          "data": {
            "image/png": "[encoded data removed]",
            "text/plain": [
              "<Figure size 432x288 with 1 Axes>"
            ]
          },
          "metadata": {
            "tags": [],
            "needs_background": "light"
          }
        },
        {
          "output_type": "display_data",
          "data": {
            "image/png": "[encoded data removed]",
            "text/plain": [
              "<Figure size 432x288 with 1 Axes>"
            ]
          },
          "metadata": {
            "tags": [],
            "needs_background": "light"
          }
        },
        {
          "output_type": "display_data",
          "data": {
            "image/png": "[encoded data removed]",
            "text/plain": [
              "<Figure size 432x288 with 1 Axes>"
            ]
          },
          "metadata": {
            "tags": [],
            "needs_background": "light"
          }
        },
        {
          "output_type": "display_data",
          "data": {
            "image/png": "[encoded data removed]",
            "text/plain": [
              "<Figure size 432x288 with 1 Axes>"
            ]
          },
          "metadata": {
            "tags": [],
            "needs_background": "light"
          }
        },
        {
          "output_type": "display_data",
          "data": {
            "image/png": "[encoded data removed]",
            "text/plain": [
              "<Figure size 432x288 with 1 Axes>"
            ]
          },
          "metadata": {
            "tags": [],
            "needs_background": "light"
          }
        },
        {
          "output_type": "display_data",
          "data": {
            "image/png": "[encoded data removed]",
            "text/plain": [
              "<Figure size 432x288 with 1 Axes>"
            ]
          },
          "metadata": {
            "tags": [],
            "needs_background": "light"
          }
        },
        {
          "output_type": "display_data",
          "data": {
            "image/png": "[encoded data removed]",
            "text/plain": [
              "<Figure size 432x288 with 1 Axes>"
            ]
          },
          "metadata": {
            "tags": [],
            "needs_background": "light"
          }
        },
        {
          "output_type": "display_data",
          "data": {
            "image/png": "[encoded data removed]",
            "text/plain": [
              "<Figure size 432x288 with 1 Axes>"
            ]
          },
          "metadata": {
            "tags": [],
            "needs_background": "light"
          }
        },
        {
          "output_type": "display_data",
          "data": {
            "image/png": "[encoded data removed]",
            "text/plain": [
              "<Figure size 432x288 with 1 Axes>"
            ]
          },
          "metadata": {
            "tags": [],
            "needs_background": "light"
          }
        },
        {
          "output_type": "display_data",
          "data": {
            "image/png": "[encoded data removed]",
            "text/plain": [
              "<Figure size 432x288 with 1 Axes>"
            ]
          },
          "metadata": {
            "tags": [],
            "needs_background": "light"
          }
        },
        {
          "output_type": "display_data",
          "data": {
            "image/png": "[encoded data removed]",
            "text/plain": [
              "<Figure size 432x288 with 1 Axes>"
            ]
          },
          "metadata": {
            "tags": [],
            "needs_background": "light"
          }
        },
        {
          "output_type": "display_data",
          "data": {
            "image/png": "[encoded data removed]",
            "text/plain": [
              "<Figure size 432x288 with 1 Axes>"
            ]
          },
          "metadata": {
            "tags": [],
            "needs_background": "light"
          }
        },
        {
          "output_type": "display_data",
          "data": {
            "text/plain": [
              "<Figure size 432x288 with 0 Axes>"
            ]
          },
          "metadata": {
            "tags": []
          }
        }
      ]
    },
    {
      "cell_type": "code",
      "metadata": {
        "id": "RfufoSXVER9n",
        "colab_type": "code",
        "outputId": "4639f331-8761-4a8e-ddb7-58334d563e7f",
        "colab": {
          "base_uri": "https://localhost:8080/",
          "height": 385
        }
      },
      "source": [
        "df.describe()"
      ],
      "execution_count": 0,
      "outputs": [
        {
          "output_type": "execute_result",
          "data": {
            "text/html": [
              "<div>\n",
              "<style scoped>\n",
              "    .dataframe tbody tr th:only-of-type {\n",
              "        vertical-align: middle;\n",
              "    }\n",
              "\n",
              "    .dataframe tbody tr th {\n",
              "        vertical-align: top;\n",
              "    }\n",
              "\n",
              "    .dataframe thead th {\n",
              "        text-align: right;\n",
              "    }\n",
              "</style>\n",
              "<table border=\"1\" class=\"dataframe\">\n",
              "  <thead>\n",
              "    <tr style=\"text-align: right;\">\n",
              "      <th></th>\n",
              "      <th>MONTH_START</th>\n",
              "      <th>TOTAL_HOURS_EVENT</th>\n",
              "      <th>TOTAL_HOURS_IN_LAND</th>\n",
              "      <th>MAX_WIND</th>\n",
              "      <th>MIN_PRES</th>\n",
              "      <th>MIN_DIST2LAND</th>\n",
              "      <th>MAX_STORMSPEED</th>\n",
              "      <th>MAX_USA_SSHS_INLAND</th>\n",
              "      <th>V_LAND_KN</th>\n",
              "      <th>DISTANCE_TRACK</th>\n",
              "      <th>DISTANCE_TRACK_VINCENTY</th>\n",
              "      <th>34KN_POP</th>\n",
              "      <th>64KN_POP</th>\n",
              "      <th>96KN_POP</th>\n",
              "      <th>TOTAL_DAMAGE_(000$)</th>\n",
              "      <th>CALC_assets_emdat</th>\n",
              "      <th>Landing</th>\n",
              "      <th>TOTAL_DEATHS</th>\n",
              "      <th>POP_DEN_SQ_KM</th>\n",
              "      <th>RURAL_POP(%)</th>\n",
              "      <th>HDI</th>\n",
              "      <th>Arable land (hectares per person)</th>\n",
              "      <th>Cereal yield (kg per hectare)</th>\n",
              "      <th>Food production index (2004-2006 = 100)</th>\n",
              "      <th>GDP per capita (constant 2010 US$)</th>\n",
              "      <th>Net flows from UN agencies US$</th>\n",
              "      <th>Life expectancy at birth, total (years)</th>\n",
              "      <th>Adjusted savings: education expenditure (% of GNI)</th>\n",
              "      <th>Income_level_Final</th>\n",
              "      <th>POP_MAX_34_ADJ</th>\n",
              "      <th>POP_MAX_50_ADJ</th>\n",
              "      <th>POP_MAX_64_ADJ</th>\n",
              "      <th>TOTAL_AFFECTED</th>\n",
              "    </tr>\n",
              "  </thead>\n",
              "  <tbody>\n",
              "    <tr>\n",
              "      <th>count</th>\n",
              "      <td>991.000000</td>\n",
              "      <td>991.000000</td>\n",
              "      <td>991.000000</td>\n",
              "      <td>991.000000</td>\n",
              "      <td>991.000000</td>\n",
              "      <td>991.000000</td>\n",
              "      <td>989.000000</td>\n",
              "      <td>773.000000</td>\n",
              "      <td>991.000000</td>\n",
              "      <td>991.000000</td>\n",
              "      <td>991.000000</td>\n",
              "      <td>7.610000e+02</td>\n",
              "      <td>991.000000</td>\n",
              "      <td>991.000000</td>\n",
              "      <td>991.000000</td>\n",
              "      <td>991.000000</td>\n",
              "      <td>991.000000</td>\n",
              "      <td>991.000000</td>\n",
              "      <td>991.000000</td>\n",
              "      <td>991.000000</td>\n",
              "      <td>991.000000</td>\n",
              "      <td>991.000000</td>\n",
              "      <td>981.000000</td>\n",
              "      <td>987.000000</td>\n",
              "      <td>982.000000</td>\n",
              "      <td>991.000000</td>\n",
              "      <td>987.000000</td>\n",
              "      <td>991.000000</td>\n",
              "      <td>991.000000</td>\n",
              "      <td>991.000000</td>\n",
              "      <td>991.000000</td>\n",
              "      <td>991.000000</td>\n",
              "      <td>991.000000</td>\n",
              "    </tr>\n",
              "    <tr>\n",
              "      <th>mean</th>\n",
              "      <td>7.770938</td>\n",
              "      <td>89.267238</td>\n",
              "      <td>1.894751</td>\n",
              "      <td>86.881699</td>\n",
              "      <td>939.110999</td>\n",
              "      <td>0.878179</td>\n",
              "      <td>18.303832</td>\n",
              "      <td>0.815006</td>\n",
              "      <td>4.440666</td>\n",
              "      <td>1531.223549</td>\n",
              "      <td>1223.714571</td>\n",
              "      <td>1.610227e+07</td>\n",
              "      <td>8.124430</td>\n",
              "      <td>4.178269</td>\n",
              "      <td>7.634230</td>\n",
              "      <td>19.169811</td>\n",
              "      <td>0.780020</td>\n",
              "      <td>2.581518</td>\n",
              "      <td>196.164857</td>\n",
              "      <td>47.572624</td>\n",
              "      <td>0.669226</td>\n",
              "      <td>-2.198147</td>\n",
              "      <td>3501.024220</td>\n",
              "      <td>93.329764</td>\n",
              "      <td>9911.140931</td>\n",
              "      <td>12.844241</td>\n",
              "      <td>70.304835</td>\n",
              "      <td>1.041226</td>\n",
              "      <td>2.454087</td>\n",
              "      <td>14.579118</td>\n",
              "      <td>13.440581</td>\n",
              "      <td>11.811131</td>\n",
              "      <td>10.086995</td>\n",
              "    </tr>\n",
              "    <tr>\n",
              "      <th>std</th>\n",
              "      <td>2.766138</td>\n",
              "      <td>73.284572</td>\n",
              "      <td>1.581078</td>\n",
              "      <td>33.635653</td>\n",
              "      <td>137.722579</td>\n",
              "      <td>1.706180</td>\n",
              "      <td>9.563449</td>\n",
              "      <td>1.620204</td>\n",
              "      <td>0.445265</td>\n",
              "      <td>1131.468382</td>\n",
              "      <td>842.425704</td>\n",
              "      <td>1.922866e+07</td>\n",
              "      <td>7.289062</td>\n",
              "      <td>6.142951</td>\n",
              "      <td>5.631716</td>\n",
              "      <td>11.197377</td>\n",
              "      <td>0.414442</td>\n",
              "      <td>1.897505</td>\n",
              "      <td>176.313138</td>\n",
              "      <td>21.898244</td>\n",
              "      <td>0.136769</td>\n",
              "      <td>0.895685</td>\n",
              "      <td>1725.269712</td>\n",
              "      <td>29.318225</td>\n",
              "      <td>15185.727417</td>\n",
              "      <td>7.012986</td>\n",
              "      <td>7.495767</td>\n",
              "      <td>0.495848</td>\n",
              "      <td>0.947970</td>\n",
              "      <td>4.828227</td>\n",
              "      <td>5.166569</td>\n",
              "      <td>5.680212</td>\n",
              "      <td>3.102598</td>\n",
              "    </tr>\n",
              "    <tr>\n",
              "      <th>min</th>\n",
              "      <td>1.000000</td>\n",
              "      <td>0.000000</td>\n",
              "      <td>-0.693147</td>\n",
              "      <td>0.000000</td>\n",
              "      <td>0.000000</td>\n",
              "      <td>0.000000</td>\n",
              "      <td>0.000000</td>\n",
              "      <td>-6.000000</td>\n",
              "      <td>3.401197</td>\n",
              "      <td>0.000000</td>\n",
              "      <td>0.000000</td>\n",
              "      <td>1.528000e+03</td>\n",
              "      <td>0.000000</td>\n",
              "      <td>0.000000</td>\n",
              "      <td>0.000000</td>\n",
              "      <td>0.000000</td>\n",
              "      <td>0.000000</td>\n",
              "      <td>0.000000</td>\n",
              "      <td>1.780000</td>\n",
              "      <td>0.000000</td>\n",
              "      <td>0.217000</td>\n",
              "      <td>-5.423870</td>\n",
              "      <td>393.300000</td>\n",
              "      <td>13.360000</td>\n",
              "      <td>141.276363</td>\n",
              "      <td>0.000000</td>\n",
              "      <td>41.762000</td>\n",
              "      <td>-0.618261</td>\n",
              "      <td>1.000000</td>\n",
              "      <td>0.000000</td>\n",
              "      <td>0.000000</td>\n",
              "      <td>0.000000</td>\n",
              "      <td>0.693147</td>\n",
              "    </tr>\n",
              "    <tr>\n",
              "      <th>25%</th>\n",
              "      <td>7.000000</td>\n",
              "      <td>33.000000</td>\n",
              "      <td>0.000000</td>\n",
              "      <td>60.000000</td>\n",
              "      <td>937.000000</td>\n",
              "      <td>0.000000</td>\n",
              "      <td>13.000000</td>\n",
              "      <td>0.000000</td>\n",
              "      <td>4.138361</td>\n",
              "      <td>619.385014</td>\n",
              "      <td>512.093044</td>\n",
              "      <td>1.750572e+06</td>\n",
              "      <td>0.000000</td>\n",
              "      <td>0.000000</td>\n",
              "      <td>0.000000</td>\n",
              "      <td>17.291178</td>\n",
              "      <td>1.000000</td>\n",
              "      <td>1.098612</td>\n",
              "      <td>50.400000</td>\n",
              "      <td>24.350000</td>\n",
              "      <td>0.590000</td>\n",
              "      <td>-2.814166</td>\n",
              "      <td>2059.700000</td>\n",
              "      <td>76.160000</td>\n",
              "      <td>1412.947077</td>\n",
              "      <td>13.845069</td>\n",
              "      <td>66.511671</td>\n",
              "      <td>0.609766</td>\n",
              "      <td>2.000000</td>\n",
              "      <td>14.467834</td>\n",
              "      <td>13.210954</td>\n",
              "      <td>11.292152</td>\n",
              "      <td>8.018896</td>\n",
              "    </tr>\n",
              "    <tr>\n",
              "      <th>50%</th>\n",
              "      <td>8.000000</td>\n",
              "      <td>75.000000</td>\n",
              "      <td>1.791759</td>\n",
              "      <td>85.000000</td>\n",
              "      <td>960.000000</td>\n",
              "      <td>0.000000</td>\n",
              "      <td>16.000000</td>\n",
              "      <td>0.000000</td>\n",
              "      <td>4.497585</td>\n",
              "      <td>1382.779275</td>\n",
              "      <td>1117.129190</td>\n",
              "      <td>8.197178e+06</td>\n",
              "      <td>11.513145</td>\n",
              "      <td>0.000000</td>\n",
              "      <td>9.680344</td>\n",
              "      <td>24.508645</td>\n",
              "      <td>1.000000</td>\n",
              "      <td>2.484907</td>\n",
              "      <td>148.000000</td>\n",
              "      <td>53.500000</td>\n",
              "      <td>0.667000</td>\n",
              "      <td>-2.362625</td>\n",
              "      <td>3319.800000</td>\n",
              "      <td>98.770000</td>\n",
              "      <td>2605.425404</td>\n",
              "      <td>16.325922</td>\n",
              "      <td>70.802000</td>\n",
              "      <td>1.029619</td>\n",
              "      <td>2.000000</td>\n",
              "      <td>16.057954</td>\n",
              "      <td>15.077483</td>\n",
              "      <td>14.019712</td>\n",
              "      <td>10.308953</td>\n",
              "    </tr>\n",
              "    <tr>\n",
              "      <th>75%</th>\n",
              "      <td>10.000000</td>\n",
              "      <td>123.000000</td>\n",
              "      <td>3.178054</td>\n",
              "      <td>115.000000</td>\n",
              "      <td>980.000000</td>\n",
              "      <td>0.000000</td>\n",
              "      <td>21.000000</td>\n",
              "      <td>2.000000</td>\n",
              "      <td>4.747537</td>\n",
              "      <td>2028.372252</td>\n",
              "      <td>1753.531999</td>\n",
              "      <td>2.311566e+07</td>\n",
              "      <td>15.194754</td>\n",
              "      <td>10.945113</td>\n",
              "      <td>12.206073</td>\n",
              "      <td>26.779700</td>\n",
              "      <td>1.000000</td>\n",
              "      <td>3.850148</td>\n",
              "      <td>305.000000</td>\n",
              "      <td>65.200000</td>\n",
              "      <td>0.754000</td>\n",
              "      <td>-1.642416</td>\n",
              "      <td>4944.900000</td>\n",
              "      <td>113.950000</td>\n",
              "      <td>8918.568543</td>\n",
              "      <td>17.263907</td>\n",
              "      <td>75.087500</td>\n",
              "      <td>1.451725</td>\n",
              "      <td>3.000000</td>\n",
              "      <td>17.208886</td>\n",
              "      <td>16.525255</td>\n",
              "      <td>15.435987</td>\n",
              "      <td>12.413181</td>\n",
              "    </tr>\n",
              "    <tr>\n",
              "      <th>max</th>\n",
              "      <td>12.000000</td>\n",
              "      <td>516.000000</td>\n",
              "      <td>5.808142</td>\n",
              "      <td>185.000000</td>\n",
              "      <td>1013.000000</td>\n",
              "      <td>5.293305</td>\n",
              "      <td>69.000000</td>\n",
              "      <td>5.000000</td>\n",
              "      <td>11.614498</td>\n",
              "      <td>6074.566991</td>\n",
              "      <td>3927.225522</td>\n",
              "      <td>1.186283e+08</td>\n",
              "      <td>17.919354</td>\n",
              "      <td>17.419063</td>\n",
              "      <td>18.643824</td>\n",
              "      <td>30.327386</td>\n",
              "      <td>1.000000</td>\n",
              "      <td>11.837658</td>\n",
              "      <td>1270.000000</td>\n",
              "      <td>92.400000</td>\n",
              "      <td>0.937000</td>\n",
              "      <td>1.121473</td>\n",
              "      <td>8900.000000</td>\n",
              "      <td>202.377089</td>\n",
              "      <td>86150.462210</td>\n",
              "      <td>19.029087</td>\n",
              "      <td>84.099756</td>\n",
              "      <td>2.639771</td>\n",
              "      <td>4.000000</td>\n",
              "      <td>19.746421</td>\n",
              "      <td>19.590919</td>\n",
              "      <td>18.491778</td>\n",
              "      <td>17.204028</td>\n",
              "    </tr>\n",
              "  </tbody>\n",
              "</table>\n",
              "</div>"
            ],
            "text/plain": [
              "       MONTH_START  TOTAL_HOURS_EVENT  ...  POP_MAX_64_ADJ  TOTAL_AFFECTED\n",
              "count   991.000000         991.000000  ...      991.000000      991.000000\n",
              "mean      7.770938          89.267238  ...       11.811131       10.086995\n",
              "std       2.766138          73.284572  ...        5.680212        3.102598\n",
              "min       1.000000           0.000000  ...        0.000000        0.693147\n",
              "25%       7.000000          33.000000  ...       11.292152        8.018896\n",
              "50%       8.000000          75.000000  ...       14.019712       10.308953\n",
              "75%      10.000000         123.000000  ...       15.435987       12.413181\n",
              "max      12.000000         516.000000  ...       18.491778       17.204028\n",
              "\n",
              "[8 rows x 33 columns]"
            ]
          },
          "metadata": {
            "tags": []
          },
          "execution_count": 82
        }
      ]
    },
    {
      "cell_type": "markdown",
      "metadata": {
        "id": "BEPRuO6UESAF",
        "colab_type": "text"
      },
      "source": [
        "- **One hot encoding for categorical variables**"
      ]
    },
    {
      "cell_type": "code",
      "metadata": {
        "scrolled": true,
        "id": "UYOT6uS_ESAF",
        "colab_type": "code",
        "outputId": "517fa487-86f0-481f-c638-986f78965776",
        "colab": {
          "base_uri": "https://localhost:8080/",
          "height": 782
        }
      },
      "source": [
        "df.info()"
      ],
      "execution_count": 0,
      "outputs": [
        {
          "output_type": "stream",
          "text": [
            "<class 'pandas.core.frame.DataFrame'>\n",
            "RangeIndex: 991 entries, 0 to 990\n",
            "Data columns (total 38 columns):\n",
            " #   Column                                              Non-Null Count  Dtype   \n",
            "---  ------                                              --------------  -----   \n",
            " 0   BASIN                                               991 non-null    category\n",
            " 1   SUB BASIN                                           991 non-null    category\n",
            " 2   NATURE                                              991 non-null    category\n",
            " 3   MONTH_START                                         991 non-null    int64   \n",
            " 4   TOTAL_HOURS_EVENT                                   991 non-null    float64 \n",
            " 5   TOTAL_HOURS_IN_LAND                                 991 non-null    float64 \n",
            " 6   GENERAL_CATEGORY                                    991 non-null    category\n",
            " 7   MAX_WIND                                            991 non-null    float64 \n",
            " 8   MIN_PRES                                            991 non-null    int64   \n",
            " 9   MIN_DIST2LAND                                       991 non-null    float64 \n",
            " 10  MAX_STORMSPEED                                      989 non-null    float64 \n",
            " 11  MAX_USA_SSHS                                        991 non-null    category\n",
            " 12  MAX_USA_SSHS_INLAND                                 773 non-null    float64 \n",
            " 13  V_LAND_KN                                           991 non-null    float64 \n",
            " 14  DISTANCE_TRACK                                      991 non-null    float64 \n",
            " 15  DISTANCE_TRACK_VINCENTY                             991 non-null    float64 \n",
            " 16  34KN_POP                                            761 non-null    float64 \n",
            " 17  64KN_POP                                            991 non-null    float64 \n",
            " 18  96KN_POP                                            991 non-null    float64 \n",
            " 19  TOTAL_DAMAGE_(000$)                                 991 non-null    float64 \n",
            " 20  CALC_assets_emdat                                   991 non-null    float64 \n",
            " 21  Landing                                             991 non-null    int64   \n",
            " 22  TOTAL_DEATHS                                        991 non-null    float64 \n",
            " 23  POP_DEN_SQ_KM                                       991 non-null    float64 \n",
            " 24  RURAL_POP(%)                                        991 non-null    float64 \n",
            " 25  HDI                                                 991 non-null    float64 \n",
            " 26  Arable land (hectares per person)                   991 non-null    float64 \n",
            " 27  Cereal yield (kg per hectare)                       981 non-null    float64 \n",
            " 28  Food production index (2004-2006 = 100)             987 non-null    float64 \n",
            " 29  GDP per capita (constant 2010 US$)                  982 non-null    float64 \n",
            " 30  Net flows from UN agencies US$                      991 non-null    float64 \n",
            " 31  Life expectancy at birth, total (years)             987 non-null    float64 \n",
            " 32  Adjusted savings: education expenditure (% of GNI)  991 non-null    float64 \n",
            " 33  Income_level_Final                                  991 non-null    int64   \n",
            " 34  POP_MAX_34_ADJ                                      991 non-null    float64 \n",
            " 35  POP_MAX_50_ADJ                                      991 non-null    float64 \n",
            " 36  POP_MAX_64_ADJ                                      991 non-null    float64 \n",
            " 37  TOTAL_AFFECTED                                      991 non-null    float64 \n",
            "dtypes: category(5), float64(29), int64(4)\n",
            "memory usage: 262.0 KB\n"
          ],
          "name": "stdout"
        }
      ]
    },
    {
      "cell_type": "code",
      "metadata": {
        "id": "m_dZ2mxHESAJ",
        "colab_type": "code",
        "outputId": "8fbc7517-ca25-4725-8737-82fa7ad02c75",
        "colab": {
          "base_uri": "https://localhost:8080/",
          "height": 34
        }
      },
      "source": [
        "cat_feats = df.dtypes[df.dtypes == 'category'].index\n",
        "cat_feats"
      ],
      "execution_count": 0,
      "outputs": [
        {
          "output_type": "execute_result",
          "data": {
            "text/plain": [
              "Index(['BASIN', 'SUB BASIN', 'NATURE', 'GENERAL_CATEGORY', 'MAX_USA_SSHS'], dtype='object')"
            ]
          },
          "metadata": {
            "tags": []
          },
          "execution_count": 84
        }
      ]
    },
    {
      "cell_type": "code",
      "metadata": {
        "id": "zVpQ99sNESAb",
        "colab_type": "code",
        "colab": {}
      },
      "source": [
        "feats_to_dummy = cat_feats #selecting feats to make one-hot encoding\n",
        "\n",
        "for feature in feats_to_dummy:\n",
        "    dummy = pd.get_dummies(df[feature], prefix=feature)\n",
        "    df = pd.concat([df,dummy], axis=1)"
      ],
      "execution_count": 0,
      "outputs": []
    },
    {
      "cell_type": "code",
      "metadata": {
        "id": "LsGQil6vESAf",
        "colab_type": "code",
        "colab": {}
      },
      "source": [
        "# Dropping dummed features\n",
        "df = df.drop(feats_to_dummy, axis=1)"
      ],
      "execution_count": 0,
      "outputs": []
    },
    {
      "cell_type": "code",
      "metadata": {
        "id": "uwfbmqSCESAp",
        "colab_type": "code",
        "outputId": "a6a94f86-2a8a-4e39-f79e-bc834f7e6f44",
        "colab": {
          "base_uri": "https://localhost:8080/",
          "height": 442
        }
      },
      "source": [
        "df.columns"
      ],
      "execution_count": 0,
      "outputs": [
        {
          "output_type": "execute_result",
          "data": {
            "text/plain": [
              "Index(['MONTH_START', 'TOTAL_HOURS_EVENT', 'TOTAL_HOURS_IN_LAND', 'MAX_WIND',\n",
              "       'MIN_PRES', 'MIN_DIST2LAND', 'MAX_STORMSPEED', 'MAX_USA_SSHS_INLAND',\n",
              "       'V_LAND_KN', 'DISTANCE_TRACK', 'DISTANCE_TRACK_VINCENTY', '34KN_POP',\n",
              "       '64KN_POP', '96KN_POP', 'TOTAL_DAMAGE_(000$)', 'CALC_assets_emdat',\n",
              "       'Landing', 'TOTAL_DEATHS', 'POP_DEN_SQ_KM', 'RURAL_POP(%)', 'HDI',\n",
              "       'Arable land (hectares per person)', 'Cereal yield (kg per hectare)',\n",
              "       'Food production index (2004-2006 = 100)',\n",
              "       'GDP per capita (constant 2010 US$)', 'Net flows from UN agencies US$',\n",
              "       'Life expectancy at birth, total (years)',\n",
              "       'Adjusted savings: education expenditure (% of GNI)',\n",
              "       'Income_level_Final', 'POP_MAX_34_ADJ', 'POP_MAX_50_ADJ',\n",
              "       'POP_MAX_64_ADJ', 'TOTAL_AFFECTED', 'BASIN_EP', 'BASIN_NAm', 'BASIN_NI',\n",
              "       'BASIN_SI', 'BASIN_SP', 'BASIN_WP', 'SUB BASIN_AS', 'SUB BASIN_BB',\n",
              "       'SUB BASIN_CP', 'SUB BASIN_CS', 'SUB BASIN_EA', 'SUB BASIN_EP',\n",
              "       'SUB BASIN_GM', 'SUB BASIN_NAm', 'SUB BASIN_SI', 'SUB BASIN_SP',\n",
              "       'SUB BASIN_WA', 'SUB BASIN_WP', 'NATURE_DS', 'NATURE_ET', 'NATURE_MX',\n",
              "       'NATURE_NR', 'NATURE_SS', 'NATURE_TS', 'GENERAL_CATEGORY_Cat 1',\n",
              "       'GENERAL_CATEGORY_Cat 2', 'GENERAL_CATEGORY_Cat 3',\n",
              "       'GENERAL_CATEGORY_Cat 4', 'GENERAL_CATEGORY_Cat 5',\n",
              "       'GENERAL_CATEGORY_TD', 'GENERAL_CATEGORY_TS', 'MAX_USA_SSHS_-6',\n",
              "       'MAX_USA_SSHS_-5', 'MAX_USA_SSHS_-4', 'MAX_USA_SSHS_-3',\n",
              "       'MAX_USA_SSHS_-2', 'MAX_USA_SSHS_-1', 'MAX_USA_SSHS_0',\n",
              "       'MAX_USA_SSHS_1', 'MAX_USA_SSHS_2', 'MAX_USA_SSHS_3', 'MAX_USA_SSHS_4',\n",
              "       'MAX_USA_SSHS_5'],\n",
              "      dtype='object')"
            ]
          },
          "metadata": {
            "tags": []
          },
          "execution_count": 87
        }
      ]
    },
    {
      "cell_type": "code",
      "metadata": {
        "id": "TD-GJdT7ESA9",
        "colab_type": "code",
        "outputId": "ec8e91ae-7de7-416e-b01b-c47a8b2ba765",
        "colab": {
          "base_uri": "https://localhost:8080/",
          "height": 34
        }
      },
      "source": [
        "df.shape"
      ],
      "execution_count": 0,
      "outputs": [
        {
          "output_type": "execute_result",
          "data": {
            "text/plain": [
              "(991, 76)"
            ]
          },
          "metadata": {
            "tags": []
          },
          "execution_count": 88
        }
      ]
    },
    {
      "cell_type": "code",
      "metadata": {
        "id": "gdBd3CSlESBM",
        "colab_type": "code",
        "colab": {}
      },
      "source": [
        "#Droping Basin and keeping subBasin because has higher granularity,\n",
        "#column arrangement \n",
        "df = df[[\n",
        "    \n",
        "     # here columns from cyclones dataset:\n",
        "    'MONTH_START', 'TOTAL_HOURS_EVENT', 'TOTAL_HOURS_IN_LAND', 'MAX_WIND',\n",
        "       'MIN_PRES', 'MIN_DIST2LAND', 'MAX_STORMSPEED', 'MAX_USA_SSHS_-6',\n",
        "       'MAX_USA_SSHS_-5', 'MAX_USA_SSHS_-4', 'MAX_USA_SSHS_-3',\n",
        "       'MAX_USA_SSHS_-2', 'MAX_USA_SSHS_-1', 'MAX_USA_SSHS_0',\n",
        "       'MAX_USA_SSHS_1', 'MAX_USA_SSHS_2', 'MAX_USA_SSHS_3', 'MAX_USA_SSHS_4',\n",
        "       'MAX_USA_SSHS_5',\n",
        "       'MAX_USA_SSHS_INLAND', 'V_LAND_KN', 'DISTANCE_TRACK',\n",
        "       'DISTANCE_TRACK_VINCENTY', '34KN_POP', '64KN_POP', '96KN_POP',\n",
        "        'Landing', \n",
        "    'BASIN_EP', 'BASIN_NAm', 'BASIN_NI',\n",
        "       'BASIN_SI', 'BASIN_SP', 'BASIN_WP', 'SUB BASIN_AS', 'SUB BASIN_BB',\n",
        "       'SUB BASIN_CP', 'SUB BASIN_CS', 'SUB BASIN_EA', 'SUB BASIN_EP',\n",
        "       'SUB BASIN_GM', 'SUB BASIN_NAm', 'SUB BASIN_SI', 'SUB BASIN_SP',\n",
        "       'SUB BASIN_WA', 'SUB BASIN_WP', 'NATURE_DS', 'NATURE_ET', 'NATURE_MX',\n",
        "       'NATURE_NR', 'NATURE_SS', 'NATURE_TS', 'GENERAL_CATEGORY_Cat 1',\n",
        "       'GENERAL_CATEGORY_Cat 2', 'GENERAL_CATEGORY_Cat 3',\n",
        "       'GENERAL_CATEGORY_Cat 4', 'GENERAL_CATEGORY_Cat 5',\n",
        "       'GENERAL_CATEGORY_TD', 'GENERAL_CATEGORY_TS',\n",
        "    \n",
        "    'TOTAL_DAMAGE_(000$)', 'CALC_assets_emdat', 'TOTAL_DEATHS',\n",
        "\n",
        "         \n",
        "    # here columns from World Bank Indicators dataset:\n",
        "    'POP_DEN_SQ_KM', 'RURAL_POP(%)', 'HDI',\n",
        "       'Arable land (hectares per person)', 'Cereal yield (kg per hectare)',\n",
        "       'Food production index (2004-2006 = 100)',\n",
        "       'GDP per capita (constant 2010 US$)', 'Net flows from UN agencies US$',\n",
        "       'Life expectancy at birth, total (years)',\n",
        "       'Adjusted savings: education expenditure (% of GNI)',\n",
        "       'Income_level_Final',\n",
        "         \n",
        "    #  here columns from climada:\n",
        "        'POP_MAX_34_ADJ', 'POP_MAX_50_ADJ', 'POP_MAX_64_ADJ',\n",
        "\n",
        "    # Target   \n",
        "       'TOTAL_AFFECTED']]"
      ],
      "execution_count": 0,
      "outputs": []
    },
    {
      "cell_type": "code",
      "metadata": {
        "id": "RG9hv9yfESBQ",
        "colab_type": "code",
        "outputId": "c8a6d920-74a1-45b8-e384-54c2257dfe27",
        "colab": {
          "base_uri": "https://localhost:8080/",
          "height": 34
        }
      },
      "source": [
        "df.shape"
      ],
      "execution_count": 0,
      "outputs": [
        {
          "output_type": "execute_result",
          "data": {
            "text/plain": [
              "(991, 76)"
            ]
          },
          "metadata": {
            "tags": []
          },
          "execution_count": 90
        }
      ]
    },
    {
      "cell_type": "markdown",
      "metadata": {
        "id": "oAv3wJPnESBa",
        "colab_type": "text"
      },
      "source": [
        "### Feature selection"
      ]
    },
    {
      "cell_type": "code",
      "metadata": {
        "id": "MLiggT-oESBa",
        "colab_type": "code",
        "colab": {}
      },
      "source": [
        "# choosing the features to include in the model\n",
        "# We take out 'TOTAL_DEATHS' because this input will not be available at the time of prediction, \n",
        "\n",
        "\n",
        "features1 = [   \n",
        "     # here columns from cyclones dataset:\n",
        "    'MONTH_START', 'TOTAL_HOURS_EVENT', 'TOTAL_HOURS_IN_LAND', 'MAX_WIND',\n",
        "       'MIN_PRES', 'MIN_DIST2LAND', 'MAX_STORMSPEED', \n",
        "       'MAX_USA_SSHS_INLAND', 'V_LAND_KN', 'DISTANCE_TRACK',\n",
        "       'DISTANCE_TRACK_VINCENTY', 'Landing', \n",
        "            #'34KN_POP', '64KN_POP', '96KN_POP',\n",
        "            # 'BASIN_EP', 'BASIN_NAm', 'BASIN_NI','BASIN_SI', 'BASIN_SP', 'BASIN_WP', \n",
        "    'SUB BASIN_AS', 'SUB BASIN_BB',\n",
        "       'SUB BASIN_CP', 'SUB BASIN_CS', 'SUB BASIN_EA', 'SUB BASIN_EP',\n",
        "       'SUB BASIN_GM', 'SUB BASIN_NAm', 'SUB BASIN_SI', 'SUB BASIN_SP',\n",
        "       'SUB BASIN_WA', 'SUB BASIN_WP', 'NATURE_DS', 'NATURE_ET', 'NATURE_MX',\n",
        "       'NATURE_NR', 'NATURE_SS', 'NATURE_TS', 'GENERAL_CATEGORY_Cat 1',\n",
        "       'GENERAL_CATEGORY_Cat 2', 'GENERAL_CATEGORY_Cat 3',\n",
        "       'GENERAL_CATEGORY_Cat 4', 'GENERAL_CATEGORY_Cat 5',\n",
        "       'GENERAL_CATEGORY_TD', 'GENERAL_CATEGORY_TS',\n",
        "    \n",
        "                #'TOTAL_DAMAGE_(000$)', 'CALC_assets_emdat', \n",
        "                #'TOTAL_DEATHS',\n",
        "\n",
        "         \n",
        "    # here columns from World Bank Indicators dataset:\n",
        "    'POP_DEN_SQ_KM', 'RURAL_POP(%)', 'HDI',\n",
        "       'Arable land (hectares per person)', 'Cereal yield (kg per hectare)',\n",
        "       'Food production index (2004-2006 = 100)',\n",
        "       'GDP per capita (constant 2010 US$)', 'Net flows from UN agencies US$',\n",
        "       'Life expectancy at birth, total (years)',\n",
        "       'Adjusted savings: education expenditure (% of GNI)',\n",
        "       'Income_level_Final',\n",
        "         \n",
        "    #  here columns from climada:\n",
        "        'POP_MAX_34_ADJ', 'POP_MAX_50_ADJ', 'POP_MAX_64_ADJ',\n",
        "         ]"
      ],
      "execution_count": 0,
      "outputs": []
    },
    {
      "cell_type": "code",
      "metadata": {
        "id": "c2MdWRWnESBo",
        "colab_type": "code",
        "colab": {}
      },
      "source": [
        "# choosing the features to include in the model\n",
        "# We take out 'TOTAL_DEATHS' because this input will not be available at the time of prediction, \n",
        "# also deleding columns with high nans\n",
        "\n",
        "features2 = [   \n",
        "     # here columns from cyclones dataset:\n",
        "    'MONTH_START', 'TOTAL_HOURS_EVENT', 'TOTAL_HOURS_IN_LAND', 'MAX_WIND',\n",
        "       'MIN_PRES', 'MIN_DIST2LAND', 'MAX_STORMSPEED', 'MAX_USA_SSHS',\n",
        "       'MAX_USA_SSHS_INLAND', 'V_LAND_KN', 'DISTANCE_TRACK',\n",
        "       'DISTANCE_TRACK_VINCENTY', '34KN_POP', '64KN_POP', '96KN_POP',\n",
        "        'Landing', \n",
        "            # 'BASIN_EP', 'BASIN_NAm', 'BASIN_NI','BASIN_SI', 'BASIN_SP', 'BASIN_WP', \n",
        "    'SUB BASIN_AS', 'SUB BASIN_BB',\n",
        "       'SUB BASIN_CP', 'SUB BASIN_CS', 'SUB BASIN_EA', 'SUB BASIN_EP',\n",
        "       'SUB BASIN_GM', 'SUB BASIN_NAm', 'SUB BASIN_SI', 'SUB BASIN_SP',\n",
        "       'SUB BASIN_WA', 'SUB BASIN_WP', 'NATURE_DS', 'NATURE_ET', 'NATURE_MX',\n",
        "       'NATURE_NR', 'NATURE_SS', 'NATURE_TS', 'GENERAL_CATEGORY_Cat 1',\n",
        "       'GENERAL_CATEGORY_Cat 2', 'GENERAL_CATEGORY_Cat 3',\n",
        "       'GENERAL_CATEGORY_Cat 4', 'GENERAL_CATEGORY_Cat 5',\n",
        "       'GENERAL_CATEGORY_TD', 'GENERAL_CATEGORY_TS',\n",
        "    \n",
        "    #'TOTAL_DAMAGE_(000$)', 'CALC_assets_emdat', \n",
        "                #'TOTAL_DEATHS',\n",
        "\n",
        "         \n",
        "    # here columns from World Bank Indicators dataset:\n",
        "    'POP_DEN_SQ_KM', 'RURAL_POP(%)', 'HDI',\n",
        "       'Arable land (hectares per person)', 'Cereal yield (kg per hectare)',\n",
        "       'Food production index (2004-2006 = 100)',\n",
        "       'GDP per capita (constant 2010 US$)', 'Net flows from UN agencies US$',\n",
        "       'Life expectancy at birth, total (years)',\n",
        "       'Adjusted savings: education expenditure (% of GNI)',\n",
        "       'Income_level_Final',\n",
        "         \n",
        "    #  here columns from climada:\n",
        "        'POP_MAX_34_ADJ', 'POP_MAX_50_ADJ', 'POP_MAX_64_ADJ',\n",
        "         ]"
      ],
      "execution_count": 0,
      "outputs": []
    },
    {
      "cell_type": "code",
      "metadata": {
        "id": "WOuvrtXyESB3",
        "colab_type": "code",
        "colab": {}
      },
      "source": [
        "df = df[df['TOTAL_AFFECTED'] >0]"
      ],
      "execution_count": 0,
      "outputs": []
    },
    {
      "cell_type": "code",
      "metadata": {
        "scrolled": true,
        "id": "HPdj9iuGESB8",
        "colab_type": "code",
        "outputId": "52b6bd1e-436d-4d91-a1f4-88cdc7bb02b1",
        "colab": {
          "base_uri": "https://localhost:8080/",
          "height": 34
        }
      },
      "source": [
        "#some checks....\n",
        "df['SUB BASIN_NAm'].unique()"
      ],
      "execution_count": 0,
      "outputs": [
        {
          "output_type": "execute_result",
          "data": {
            "text/plain": [
              "array([0, 1], dtype=uint8)"
            ]
          },
          "metadata": {
            "tags": []
          },
          "execution_count": 94
        }
      ]
    },
    {
      "cell_type": "code",
      "metadata": {
        "id": "Gi4I0xBnESB_",
        "colab_type": "code",
        "outputId": "1a47a095-3a17-42f2-d656-23a7b2c6bc7e",
        "colab": {
          "base_uri": "https://localhost:8080/",
          "height": 337
        }
      },
      "source": [
        "#some checks....\n",
        "df['TOTAL_AFFECTED'].hist(bins=20, figsize=(10,5)) #this is logarithmic and scaled(0,1)"
      ],
      "execution_count": 0,
      "outputs": [
        {
          "output_type": "execute_result",
          "data": {
            "text/plain": [
              "<matplotlib.axes._subplots.AxesSubplot at 0x7fd6256e14e0>"
            ]
          },
          "metadata": {
            "tags": []
          },
          "execution_count": 95
        },
        {
          "output_type": "display_data",
          "data": {
            "image/png": "[encoded data removed]",
            "text/plain": [
              "<Figure size 720x360 with 1 Axes>"
            ]
          },
          "metadata": {
            "tags": [],
            "needs_background": "light"
          }
        }
      ]
    },
    {
      "cell_type": "markdown",
      "metadata": {
        "id": "7Sy1i2lzESCC",
        "colab_type": "text"
      },
      "source": [
        "__________________"
      ]
    },
    {
      "cell_type": "markdown",
      "metadata": {
        "id": "eXRMNIleESCM",
        "colab_type": "text"
      },
      "source": [
        "________________________"
      ]
    },
    {
      "cell_type": "markdown",
      "metadata": {
        "id": "mvua8p1mESCN",
        "colab_type": "text"
      },
      "source": [
        "## Imputation and train test split"
      ]
    },
    {
      "cell_type": "code",
      "metadata": {
        "id": "ZxUy3_vxESCO",
        "colab_type": "code",
        "outputId": "03424a76-cd43-4a97-cde6-d4800f656522",
        "colab": {
          "base_uri": "https://localhost:8080/",
          "height": 34
        }
      },
      "source": [
        " #trim. Scaled and logged 1000 < x <5000000\n",
        "# df_scaled =  df_scaled[df_scaled['TOTAL_AFFECTED'] > 0.4] \n",
        "# df_scaled =  df_scaled[df_scaled['TOTAL_AFFECTED'] < 0.9]\n",
        "df.shape"
      ],
      "execution_count": 0,
      "outputs": [
        {
          "output_type": "execute_result",
          "data": {
            "text/plain": [
              "(991, 76)"
            ]
          },
          "metadata": {
            "tags": []
          },
          "execution_count": 96
        }
      ]
    },
    {
      "cell_type": "code",
      "metadata": {
        "id": "nceTAjl1ESCR",
        "colab_type": "code",
        "colab": {}
      },
      "source": [
        "# df_scaled.dropna(inplace = True)"
      ],
      "execution_count": 0,
      "outputs": []
    },
    {
      "cell_type": "code",
      "metadata": {
        "id": "xBT2x5ZUESCW",
        "colab_type": "code",
        "colab": {}
      },
      "source": [
        "from sklearn.impute import KNNImputer"
      ],
      "execution_count": 0,
      "outputs": []
    },
    {
      "cell_type": "code",
      "metadata": {
        "id": "uXRMZjU6ESCd",
        "colab_type": "code",
        "outputId": "03fa9bdb-a7d6-4677-c5eb-0b2d82b50699",
        "colab": {
          "base_uri": "https://localhost:8080/",
          "height": 34
        }
      },
      "source": [
        "df.shape"
      ],
      "execution_count": 0,
      "outputs": [
        {
          "output_type": "execute_result",
          "data": {
            "text/plain": [
              "(991, 76)"
            ]
          },
          "metadata": {
            "tags": []
          },
          "execution_count": 99
        }
      ]
    },
    {
      "cell_type": "code",
      "metadata": {
        "id": "lDVO9BUHESCg",
        "colab_type": "code",
        "outputId": "22307b88-5761-4b96-bfa2-1ffa467cdad7",
        "colab": {
          "base_uri": "https://localhost:8080/",
          "height": 224
        }
      },
      "source": [
        "imputer = KNNImputer(n_neighbors=5)\n",
        "df_filled = pd.DataFrame(imputer.fit_transform(df))\n",
        "df_filled.head()"
      ],
      "execution_count": 0,
      "outputs": [
        {
          "output_type": "execute_result",
          "data": {
            "text/html": [
              "<div>\n",
              "<style scoped>\n",
              "    .dataframe tbody tr th:only-of-type {\n",
              "        vertical-align: middle;\n",
              "    }\n",
              "\n",
              "    .dataframe tbody tr th {\n",
              "        vertical-align: top;\n",
              "    }\n",
              "\n",
              "    .dataframe thead th {\n",
              "        text-align: right;\n",
              "    }\n",
              "</style>\n",
              "<table border=\"1\" class=\"dataframe\">\n",
              "  <thead>\n",
              "    <tr style=\"text-align: right;\">\n",
              "      <th></th>\n",
              "      <th>0</th>\n",
              "      <th>1</th>\n",
              "      <th>2</th>\n",
              "      <th>3</th>\n",
              "      <th>4</th>\n",
              "      <th>5</th>\n",
              "      <th>6</th>\n",
              "      <th>7</th>\n",
              "      <th>8</th>\n",
              "      <th>9</th>\n",
              "      <th>10</th>\n",
              "      <th>11</th>\n",
              "      <th>12</th>\n",
              "      <th>13</th>\n",
              "      <th>14</th>\n",
              "      <th>15</th>\n",
              "      <th>16</th>\n",
              "      <th>17</th>\n",
              "      <th>18</th>\n",
              "      <th>19</th>\n",
              "      <th>20</th>\n",
              "      <th>21</th>\n",
              "      <th>22</th>\n",
              "      <th>23</th>\n",
              "      <th>24</th>\n",
              "      <th>25</th>\n",
              "      <th>26</th>\n",
              "      <th>27</th>\n",
              "      <th>28</th>\n",
              "      <th>29</th>\n",
              "      <th>30</th>\n",
              "      <th>31</th>\n",
              "      <th>32</th>\n",
              "      <th>33</th>\n",
              "      <th>34</th>\n",
              "      <th>35</th>\n",
              "      <th>36</th>\n",
              "      <th>37</th>\n",
              "      <th>38</th>\n",
              "      <th>39</th>\n",
              "      <th>40</th>\n",
              "      <th>41</th>\n",
              "      <th>42</th>\n",
              "      <th>43</th>\n",
              "      <th>44</th>\n",
              "      <th>45</th>\n",
              "      <th>46</th>\n",
              "      <th>47</th>\n",
              "      <th>48</th>\n",
              "      <th>49</th>\n",
              "      <th>50</th>\n",
              "      <th>51</th>\n",
              "      <th>52</th>\n",
              "      <th>53</th>\n",
              "      <th>54</th>\n",
              "      <th>55</th>\n",
              "      <th>56</th>\n",
              "      <th>57</th>\n",
              "      <th>58</th>\n",
              "      <th>59</th>\n",
              "      <th>60</th>\n",
              "      <th>61</th>\n",
              "      <th>62</th>\n",
              "      <th>63</th>\n",
              "      <th>64</th>\n",
              "      <th>65</th>\n",
              "      <th>66</th>\n",
              "      <th>67</th>\n",
              "      <th>68</th>\n",
              "      <th>69</th>\n",
              "      <th>70</th>\n",
              "      <th>71</th>\n",
              "      <th>72</th>\n",
              "      <th>73</th>\n",
              "      <th>74</th>\n",
              "      <th>75</th>\n",
              "    </tr>\n",
              "  </thead>\n",
              "  <tbody>\n",
              "    <tr>\n",
              "      <th>0</th>\n",
              "      <td>6.0</td>\n",
              "      <td>117.0</td>\n",
              "      <td>4.094345</td>\n",
              "      <td>116.0</td>\n",
              "      <td>952.0</td>\n",
              "      <td>0.0</td>\n",
              "      <td>33.0</td>\n",
              "      <td>0.0</td>\n",
              "      <td>0.0</td>\n",
              "      <td>0.0</td>\n",
              "      <td>0.0</td>\n",
              "      <td>0.0</td>\n",
              "      <td>0.0</td>\n",
              "      <td>0.0</td>\n",
              "      <td>0.0</td>\n",
              "      <td>0.0</td>\n",
              "      <td>1.0</td>\n",
              "      <td>0.0</td>\n",
              "      <td>0.0</td>\n",
              "      <td>0.0</td>\n",
              "      <td>4.603369</td>\n",
              "      <td>3889.480640</td>\n",
              "      <td>3632.626180</td>\n",
              "      <td>13167681.4</td>\n",
              "      <td>0.000000</td>\n",
              "      <td>0.000000</td>\n",
              "      <td>1.0</td>\n",
              "      <td>0.0</td>\n",
              "      <td>0.0</td>\n",
              "      <td>0.0</td>\n",
              "      <td>0.0</td>\n",
              "      <td>0.0</td>\n",
              "      <td>1.0</td>\n",
              "      <td>0.0</td>\n",
              "      <td>0.0</td>\n",
              "      <td>0.0</td>\n",
              "      <td>0.0</td>\n",
              "      <td>0.0</td>\n",
              "      <td>0.0</td>\n",
              "      <td>0.0</td>\n",
              "      <td>0.0</td>\n",
              "      <td>0.0</td>\n",
              "      <td>0.0</td>\n",
              "      <td>0.0</td>\n",
              "      <td>1.0</td>\n",
              "      <td>0.0</td>\n",
              "      <td>0.0</td>\n",
              "      <td>0.0</td>\n",
              "      <td>0.0</td>\n",
              "      <td>0.0</td>\n",
              "      <td>1.0</td>\n",
              "      <td>0.0</td>\n",
              "      <td>0.0</td>\n",
              "      <td>0.0</td>\n",
              "      <td>1.0</td>\n",
              "      <td>0.0</td>\n",
              "      <td>0.0</td>\n",
              "      <td>0.0</td>\n",
              "      <td>0.000000</td>\n",
              "      <td>0.000000</td>\n",
              "      <td>6.037871</td>\n",
              "      <td>195.0</td>\n",
              "      <td>77.20</td>\n",
              "      <td>0.816</td>\n",
              "      <td>-2.819853</td>\n",
              "      <td>4173.5</td>\n",
              "      <td>67.79</td>\n",
              "      <td>8607.657082</td>\n",
              "      <td>0.0</td>\n",
              "      <td>67.666098</td>\n",
              "      <td>1.053572</td>\n",
              "      <td>1.0</td>\n",
              "      <td>16.298999</td>\n",
              "      <td>15.574055</td>\n",
              "      <td>15.015749</td>\n",
              "      <td>12.175851</td>\n",
              "    </tr>\n",
              "    <tr>\n",
              "      <th>1</th>\n",
              "      <td>8.0</td>\n",
              "      <td>141.0</td>\n",
              "      <td>3.044522</td>\n",
              "      <td>116.0</td>\n",
              "      <td>940.0</td>\n",
              "      <td>0.0</td>\n",
              "      <td>31.0</td>\n",
              "      <td>0.0</td>\n",
              "      <td>0.0</td>\n",
              "      <td>0.0</td>\n",
              "      <td>0.0</td>\n",
              "      <td>0.0</td>\n",
              "      <td>0.0</td>\n",
              "      <td>0.0</td>\n",
              "      <td>0.0</td>\n",
              "      <td>0.0</td>\n",
              "      <td>1.0</td>\n",
              "      <td>0.0</td>\n",
              "      <td>0.0</td>\n",
              "      <td>1.0</td>\n",
              "      <td>4.603369</td>\n",
              "      <td>3596.090691</td>\n",
              "      <td>2787.480021</td>\n",
              "      <td>13167681.4</td>\n",
              "      <td>0.000000</td>\n",
              "      <td>0.000000</td>\n",
              "      <td>1.0</td>\n",
              "      <td>0.0</td>\n",
              "      <td>0.0</td>\n",
              "      <td>0.0</td>\n",
              "      <td>0.0</td>\n",
              "      <td>0.0</td>\n",
              "      <td>1.0</td>\n",
              "      <td>0.0</td>\n",
              "      <td>0.0</td>\n",
              "      <td>0.0</td>\n",
              "      <td>0.0</td>\n",
              "      <td>0.0</td>\n",
              "      <td>0.0</td>\n",
              "      <td>0.0</td>\n",
              "      <td>0.0</td>\n",
              "      <td>0.0</td>\n",
              "      <td>0.0</td>\n",
              "      <td>0.0</td>\n",
              "      <td>1.0</td>\n",
              "      <td>0.0</td>\n",
              "      <td>1.0</td>\n",
              "      <td>0.0</td>\n",
              "      <td>0.0</td>\n",
              "      <td>0.0</td>\n",
              "      <td>0.0</td>\n",
              "      <td>0.0</td>\n",
              "      <td>0.0</td>\n",
              "      <td>0.0</td>\n",
              "      <td>1.0</td>\n",
              "      <td>0.0</td>\n",
              "      <td>0.0</td>\n",
              "      <td>0.0</td>\n",
              "      <td>0.000000</td>\n",
              "      <td>0.000000</td>\n",
              "      <td>6.232448</td>\n",
              "      <td>227.0</td>\n",
              "      <td>47.00</td>\n",
              "      <td>0.816</td>\n",
              "      <td>-2.819853</td>\n",
              "      <td>4173.5</td>\n",
              "      <td>67.79</td>\n",
              "      <td>8607.657082</td>\n",
              "      <td>0.0</td>\n",
              "      <td>67.666098</td>\n",
              "      <td>1.053572</td>\n",
              "      <td>1.0</td>\n",
              "      <td>17.268928</td>\n",
              "      <td>16.562266</td>\n",
              "      <td>16.136855</td>\n",
              "      <td>13.372526</td>\n",
              "    </tr>\n",
              "    <tr>\n",
              "      <th>2</th>\n",
              "      <td>8.0</td>\n",
              "      <td>15.0</td>\n",
              "      <td>1.098612</td>\n",
              "      <td>110.0</td>\n",
              "      <td>0.0</td>\n",
              "      <td>0.0</td>\n",
              "      <td>17.0</td>\n",
              "      <td>0.0</td>\n",
              "      <td>0.0</td>\n",
              "      <td>0.0</td>\n",
              "      <td>0.0</td>\n",
              "      <td>0.0</td>\n",
              "      <td>0.0</td>\n",
              "      <td>0.0</td>\n",
              "      <td>0.0</td>\n",
              "      <td>0.0</td>\n",
              "      <td>1.0</td>\n",
              "      <td>0.0</td>\n",
              "      <td>0.0</td>\n",
              "      <td>3.0</td>\n",
              "      <td>4.885828</td>\n",
              "      <td>438.214691</td>\n",
              "      <td>435.729082</td>\n",
              "      <td>2788659.0</td>\n",
              "      <td>14.841071</td>\n",
              "      <td>14.752742</td>\n",
              "      <td>1.0</td>\n",
              "      <td>0.0</td>\n",
              "      <td>1.0</td>\n",
              "      <td>0.0</td>\n",
              "      <td>0.0</td>\n",
              "      <td>0.0</td>\n",
              "      <td>0.0</td>\n",
              "      <td>0.0</td>\n",
              "      <td>0.0</td>\n",
              "      <td>0.0</td>\n",
              "      <td>1.0</td>\n",
              "      <td>0.0</td>\n",
              "      <td>0.0</td>\n",
              "      <td>0.0</td>\n",
              "      <td>0.0</td>\n",
              "      <td>0.0</td>\n",
              "      <td>0.0</td>\n",
              "      <td>0.0</td>\n",
              "      <td>0.0</td>\n",
              "      <td>0.0</td>\n",
              "      <td>0.0</td>\n",
              "      <td>0.0</td>\n",
              "      <td>0.0</td>\n",
              "      <td>0.0</td>\n",
              "      <td>1.0</td>\n",
              "      <td>0.0</td>\n",
              "      <td>0.0</td>\n",
              "      <td>1.0</td>\n",
              "      <td>0.0</td>\n",
              "      <td>0.0</td>\n",
              "      <td>0.0</td>\n",
              "      <td>0.0</td>\n",
              "      <td>10.933107</td>\n",
              "      <td>24.857591</td>\n",
              "      <td>5.036953</td>\n",
              "      <td>133.0</td>\n",
              "      <td>66.23</td>\n",
              "      <td>0.668</td>\n",
              "      <td>-2.297193</td>\n",
              "      <td>868.3</td>\n",
              "      <td>69.93</td>\n",
              "      <td>3796.219401</td>\n",
              "      <td>0.0</td>\n",
              "      <td>64.770000</td>\n",
              "      <td>0.947132</td>\n",
              "      <td>1.0</td>\n",
              "      <td>14.339791</td>\n",
              "      <td>14.338512</td>\n",
              "      <td>13.993700</td>\n",
              "      <td>9.913438</td>\n",
              "    </tr>\n",
              "    <tr>\n",
              "      <th>3</th>\n",
              "      <td>12.0</td>\n",
              "      <td>231.0</td>\n",
              "      <td>3.583519</td>\n",
              "      <td>120.0</td>\n",
              "      <td>924.0</td>\n",
              "      <td>0.0</td>\n",
              "      <td>11.0</td>\n",
              "      <td>0.0</td>\n",
              "      <td>0.0</td>\n",
              "      <td>0.0</td>\n",
              "      <td>0.0</td>\n",
              "      <td>0.0</td>\n",
              "      <td>0.0</td>\n",
              "      <td>0.0</td>\n",
              "      <td>0.0</td>\n",
              "      <td>0.0</td>\n",
              "      <td>0.0</td>\n",
              "      <td>1.0</td>\n",
              "      <td>0.0</td>\n",
              "      <td>2.0</td>\n",
              "      <td>4.780803</td>\n",
              "      <td>2238.058669</td>\n",
              "      <td>1905.587795</td>\n",
              "      <td>20464826.0</td>\n",
              "      <td>16.355214</td>\n",
              "      <td>15.541521</td>\n",
              "      <td>1.0</td>\n",
              "      <td>0.0</td>\n",
              "      <td>0.0</td>\n",
              "      <td>0.0</td>\n",
              "      <td>0.0</td>\n",
              "      <td>0.0</td>\n",
              "      <td>1.0</td>\n",
              "      <td>0.0</td>\n",
              "      <td>0.0</td>\n",
              "      <td>0.0</td>\n",
              "      <td>0.0</td>\n",
              "      <td>0.0</td>\n",
              "      <td>0.0</td>\n",
              "      <td>0.0</td>\n",
              "      <td>0.0</td>\n",
              "      <td>0.0</td>\n",
              "      <td>0.0</td>\n",
              "      <td>0.0</td>\n",
              "      <td>1.0</td>\n",
              "      <td>0.0</td>\n",
              "      <td>0.0</td>\n",
              "      <td>0.0</td>\n",
              "      <td>0.0</td>\n",
              "      <td>0.0</td>\n",
              "      <td>1.0</td>\n",
              "      <td>0.0</td>\n",
              "      <td>0.0</td>\n",
              "      <td>0.0</td>\n",
              "      <td>1.0</td>\n",
              "      <td>0.0</td>\n",
              "      <td>0.0</td>\n",
              "      <td>0.0</td>\n",
              "      <td>0.000000</td>\n",
              "      <td>26.581503</td>\n",
              "      <td>6.343880</td>\n",
              "      <td>64.5</td>\n",
              "      <td>75.35</td>\n",
              "      <td>0.590</td>\n",
              "      <td>-1.712345</td>\n",
              "      <td>996.3</td>\n",
              "      <td>25.68</td>\n",
              "      <td>1059.467412</td>\n",
              "      <td>0.0</td>\n",
              "      <td>61.105000</td>\n",
              "      <td>1.014409</td>\n",
              "      <td>2.0</td>\n",
              "      <td>15.375766</td>\n",
              "      <td>14.916344</td>\n",
              "      <td>13.924162</td>\n",
              "      <td>11.002100</td>\n",
              "    </tr>\n",
              "    <tr>\n",
              "      <th>4</th>\n",
              "      <td>7.0</td>\n",
              "      <td>84.0</td>\n",
              "      <td>2.197225</td>\n",
              "      <td>110.0</td>\n",
              "      <td>968.0</td>\n",
              "      <td>0.0</td>\n",
              "      <td>15.0</td>\n",
              "      <td>0.0</td>\n",
              "      <td>0.0</td>\n",
              "      <td>0.0</td>\n",
              "      <td>0.0</td>\n",
              "      <td>0.0</td>\n",
              "      <td>0.0</td>\n",
              "      <td>0.0</td>\n",
              "      <td>0.0</td>\n",
              "      <td>0.0</td>\n",
              "      <td>1.0</td>\n",
              "      <td>0.0</td>\n",
              "      <td>0.0</td>\n",
              "      <td>1.0</td>\n",
              "      <td>11.614498</td>\n",
              "      <td>1876.186790</td>\n",
              "      <td>1797.712213</td>\n",
              "      <td>50478666.8</td>\n",
              "      <td>0.000000</td>\n",
              "      <td>0.000000</td>\n",
              "      <td>1.0</td>\n",
              "      <td>0.0</td>\n",
              "      <td>0.0</td>\n",
              "      <td>0.0</td>\n",
              "      <td>0.0</td>\n",
              "      <td>0.0</td>\n",
              "      <td>1.0</td>\n",
              "      <td>0.0</td>\n",
              "      <td>0.0</td>\n",
              "      <td>0.0</td>\n",
              "      <td>0.0</td>\n",
              "      <td>0.0</td>\n",
              "      <td>0.0</td>\n",
              "      <td>0.0</td>\n",
              "      <td>0.0</td>\n",
              "      <td>0.0</td>\n",
              "      <td>0.0</td>\n",
              "      <td>0.0</td>\n",
              "      <td>1.0</td>\n",
              "      <td>0.0</td>\n",
              "      <td>0.0</td>\n",
              "      <td>0.0</td>\n",
              "      <td>0.0</td>\n",
              "      <td>0.0</td>\n",
              "      <td>1.0</td>\n",
              "      <td>0.0</td>\n",
              "      <td>0.0</td>\n",
              "      <td>1.0</td>\n",
              "      <td>0.0</td>\n",
              "      <td>0.0</td>\n",
              "      <td>0.0</td>\n",
              "      <td>0.0</td>\n",
              "      <td>0.000000</td>\n",
              "      <td>0.000000</td>\n",
              "      <td>2.944439</td>\n",
              "      <td>66.9</td>\n",
              "      <td>72.41</td>\n",
              "      <td>0.590</td>\n",
              "      <td>-1.712345</td>\n",
              "      <td>996.3</td>\n",
              "      <td>25.68</td>\n",
              "      <td>1059.467412</td>\n",
              "      <td>0.0</td>\n",
              "      <td>61.105000</td>\n",
              "      <td>1.014409</td>\n",
              "      <td>2.0</td>\n",
              "      <td>15.450771</td>\n",
              "      <td>14.841368</td>\n",
              "      <td>14.502903</td>\n",
              "      <td>4.634729</td>\n",
              "    </tr>\n",
              "  </tbody>\n",
              "</table>\n",
              "</div>"
            ],
            "text/plain": [
              "     0      1         2      3   ...         72         73         74         75\n",
              "0   6.0  117.0  4.094345  116.0  ...  16.298999  15.574055  15.015749  12.175851\n",
              "1   8.0  141.0  3.044522  116.0  ...  17.268928  16.562266  16.136855  13.372526\n",
              "2   8.0   15.0  1.098612  110.0  ...  14.339791  14.338512  13.993700   9.913438\n",
              "3  12.0  231.0  3.583519  120.0  ...  15.375766  14.916344  13.924162  11.002100\n",
              "4   7.0   84.0  2.197225  110.0  ...  15.450771  14.841368  14.502903   4.634729\n",
              "\n",
              "[5 rows x 76 columns]"
            ]
          },
          "metadata": {
            "tags": []
          },
          "execution_count": 100
        }
      ]
    },
    {
      "cell_type": "code",
      "metadata": {
        "id": "M96ZKpQIESCj",
        "colab_type": "code",
        "colab": {}
      },
      "source": [
        "df_filled = df_filled.rename(columns = dict(zip(df_filled.columns, df.columns), inplace = True))"
      ],
      "execution_count": 0,
      "outputs": []
    },
    {
      "cell_type": "code",
      "metadata": {
        "id": "jO2ZcgUYESDP",
        "colab_type": "code",
        "colab": {}
      },
      "source": [
        "X = df_filled[features1] #features\n",
        "\n",
        "y = df_filled['TOTAL_AFFECTED']"
      ],
      "execution_count": 0,
      "outputs": []
    },
    {
      "cell_type": "code",
      "metadata": {
        "id": "_hNIPlUqESDU",
        "colab_type": "code",
        "outputId": "1ba44e64-5381-44ef-8b4f-9552f6cdafbe",
        "colab": {
          "base_uri": "https://localhost:8080/",
          "height": 34
        }
      },
      "source": [
        "X.shape"
      ],
      "execution_count": 0,
      "outputs": [
        {
          "output_type": "execute_result",
          "data": {
            "text/plain": [
              "(991, 51)"
            ]
          },
          "metadata": {
            "tags": []
          },
          "execution_count": 103
        }
      ]
    },
    {
      "cell_type": "code",
      "metadata": {
        "id": "7XhcVpA1ESFX",
        "colab_type": "code",
        "outputId": "558313d5-ccf0-4d5c-e9d9-7d224a3aedba",
        "colab": {
          "base_uri": "https://localhost:8080/",
          "height": 170
        }
      },
      "source": [
        "X = df_filled[features1] #features\n",
        "# X = df_scaled[features3].fillna(df.mean())\n",
        "y = df_filled['TOTAL_AFFECTED']\n",
        "print(y.describe())"
      ],
      "execution_count": 0,
      "outputs": [
        {
          "output_type": "stream",
          "text": [
            "count    991.000000\n",
            "mean      10.086995\n",
            "std        3.102598\n",
            "min        0.693147\n",
            "25%        8.018896\n",
            "50%       10.308953\n",
            "75%       12.413181\n",
            "max       17.204028\n",
            "Name: TOTAL_AFFECTED, dtype: float64\n"
          ],
          "name": "stdout"
        }
      ]
    },
    {
      "cell_type": "code",
      "metadata": {
        "id": "_pPM3gDAESFb",
        "colab_type": "code",
        "colab": {}
      },
      "source": [
        "X_train, X_test, y_train, y_test = train_test_split(X, y, test_size=0.2,shuffle=True,random_state=123) #(X_pca, y, test_size=0.3)"
      ],
      "execution_count": 0,
      "outputs": []
    },
    {
      "cell_type": "markdown",
      "metadata": {
        "id": "prHnwpantHGW",
        "colab_type": "text"
      },
      "source": [
        "## Random Forest"
      ]
    },
    {
      "cell_type": "code",
      "metadata": {
        "id": "FTle2yoLESFg",
        "colab_type": "code",
        "colab": {}
      },
      "source": [
        "parameters = {'n_estimators':[100, 500, 1000], \n",
        "              'max_depth':[20,500,1000],\n",
        "              'max_features':[5,10,20,30]              \n",
        "             }"
      ],
      "execution_count": 0,
      "outputs": []
    },
    {
      "cell_type": "code",
      "metadata": {
        "id": "ZTtO2hIeESFl",
        "colab_type": "code",
        "colab": {}
      },
      "source": [
        "estimator_RF = RandomizedSearchCV(RandomForestRegressor(), parameters, cv = 5, scoring= 'neg_root_mean_squared_error',n_jobs=2,refit=True,\n",
        "                            n_iter=20,return_train_score = False)"
      ],
      "execution_count": 0,
      "outputs": []
    },
    {
      "cell_type": "code",
      "metadata": {
        "scrolled": true,
        "id": "LloQiJDiESFo",
        "colab_type": "code",
        "outputId": "2913592c-3a31-4da3-c6d4-e92c01ccf0f8",
        "colab": {
          "base_uri": "https://localhost:8080/",
          "height": 425
        }
      },
      "source": [
        "estimator_RF.fit(X_train,y_train)"
      ],
      "execution_count": 0,
      "outputs": [
        {
          "output_type": "execute_result",
          "data": {
            "text/plain": [
              "RandomizedSearchCV(cv=5, error_score=nan,\n",
              "                   estimator=RandomForestRegressor(bootstrap=True,\n",
              "                                                   ccp_alpha=0.0,\n",
              "                                                   criterion='mse',\n",
              "                                                   max_depth=None,\n",
              "                                                   max_features='auto',\n",
              "                                                   max_leaf_nodes=None,\n",
              "                                                   max_samples=None,\n",
              "                                                   min_impurity_decrease=0.0,\n",
              "                                                   min_impurity_split=None,\n",
              "                                                   min_samples_leaf=1,\n",
              "                                                   min_samples_split=2,\n",
              "                                                   min_weight_fraction_leaf=0.0,\n",
              "                                                   n_estimators=100,\n",
              "                                                   n_jobs=None, oob_score=False,\n",
              "                                                   random_state=None, verbose=0,\n",
              "                                                   warm_start=False),\n",
              "                   iid='deprecated', n_iter=20, n_jobs=2,\n",
              "                   param_distributions={'max_depth': [20, 500, 1000],\n",
              "                                        'max_features': [5, 10, 20, 30],\n",
              "                                        'n_estimators': [100, 500, 1000]},\n",
              "                   pre_dispatch='2*n_jobs', random_state=None, refit=True,\n",
              "                   return_train_score=False,\n",
              "                   scoring='neg_root_mean_squared_error', verbose=0)"
            ]
          },
          "metadata": {
            "tags": []
          },
          "execution_count": 108
        }
      ]
    },
    {
      "cell_type": "code",
      "metadata": {
        "id": "ZONGraEfIDq2",
        "colab_type": "code",
        "outputId": "a9e59e60-9051-4c06-90dc-6bb6d6c263f0",
        "colab": {
          "base_uri": "https://localhost:8080/",
          "height": 51
        }
      },
      "source": [
        "\n",
        "print(np.abs(estimator_RF.best_score_))\n",
        "print(estimator_RF.best_params_)"
      ],
      "execution_count": 0,
      "outputs": [
        {
          "output_type": "stream",
          "text": [
            "2.5868741678412923\n",
            "{'n_estimators': 1000, 'max_features': 20, 'max_depth': 1000}\n"
          ],
          "name": "stdout"
        }
      ]
    },
    {
      "cell_type": "markdown",
      "metadata": {
        "id": "oz4BzrO8s-N-",
        "colab_type": "text"
      },
      "source": [
        "## Gradient Boosting Method"
      ]
    },
    {
      "cell_type": "code",
      "metadata": {
        "id": "OE18jpwFImxn",
        "colab_type": "code",
        "colab": {}
      },
      "source": [
        "# Create the parameter grid\n",
        "param_grid = {'learning_rate': np.linspace(0.1, 2, 100), 'min_samples_leaf': list(range(2, 30))} \n",
        "# check with Gradient Boosting\n",
        "estimator_GBM = RandomizedSearchCV(GradientBoostingRegressor(), param_grid, cv = 5, scoring= 'neg_root_mean_squared_error',n_jobs=2,refit=True,\n",
        "                            n_iter=20,return_train_score = False)\n"
      ],
      "execution_count": 0,
      "outputs": []
    },
    {
      "cell_type": "code",
      "metadata": {
        "id": "aPTRCXxDLmeL",
        "colab_type": "code",
        "outputId": "5c98870a-358d-47bc-e59c-2c5870c9cd39",
        "colab": {
          "base_uri": "https://localhost:8080/",
          "height": 476
        }
      },
      "source": [
        "estimator_GBM.fit(X_train,y_train)"
      ],
      "execution_count": 0,
      "outputs": [
        {
          "output_type": "execute_result",
          "data": {
            "text/plain": [
              "RandomizedSearchCV(cv=5, error_score=nan,\n",
              "                   estimator=GradientBoostingRegressor(alpha=0.9, ccp_alpha=0.0,\n",
              "                                                       criterion='friedman_mse',\n",
              "                                                       init=None,\n",
              "                                                       learning_rate=0.1,\n",
              "                                                       loss='ls', max_depth=3,\n",
              "                                                       max_features=None,\n",
              "                                                       max_leaf_nodes=None,\n",
              "                                                       min_impurity_decrease=0.0,\n",
              "                                                       min_impurity_split=None,\n",
              "                                                       min_samples_leaf=1,\n",
              "                                                       min_samples_split=2,\n",
              "                                                       min_weight_fraction_leaf=0.0,\n",
              "                                                       n_estimators=100,\n",
              "                                                       n_...\n",
              "       1.73131313, 1.75050505, 1.76969697, 1.78888889, 1.80808081,\n",
              "       1.82727273, 1.84646465, 1.86565657, 1.88484848, 1.9040404 ,\n",
              "       1.92323232, 1.94242424, 1.96161616, 1.98080808, 2.        ]),\n",
              "                                        'min_samples_leaf': [2, 3, 4, 5, 6, 7,\n",
              "                                                             8, 9, 10, 11, 12,\n",
              "                                                             13, 14, 15, 16, 17,\n",
              "                                                             18, 19, 20, 21, 22,\n",
              "                                                             23, 24, 25, 26, 27,\n",
              "                                                             28, 29]},\n",
              "                   pre_dispatch='2*n_jobs', random_state=None, refit=True,\n",
              "                   return_train_score=False,\n",
              "                   scoring='neg_root_mean_squared_error', verbose=0)"
            ]
          },
          "metadata": {
            "tags": []
          },
          "execution_count": 111
        }
      ]
    },
    {
      "cell_type": "code",
      "metadata": {
        "id": "8vWJgn_CsXdx",
        "colab_type": "code",
        "outputId": "327071d3-f4f6-4afd-f83b-2a795b19c5a0",
        "colab": {
          "base_uri": "https://localhost:8080/",
          "height": 51
        }
      },
      "source": [
        "print(np.abs(estimator_GBM.best_score_))\n",
        "print(estimator_GBM.best_params_)"
      ],
      "execution_count": 0,
      "outputs": [
        {
          "output_type": "stream",
          "text": [
            "2.647548619589415\n",
            "{'min_samples_leaf': 12, 'learning_rate': 0.1383838383838384}\n"
          ],
          "name": "stdout"
        }
      ]
    },
    {
      "cell_type": "markdown",
      "metadata": {
        "id": "AXaP0X8lUget",
        "colab_type": "text"
      },
      "source": [
        "## Support Vector Regression"
      ]
    },
    {
      "cell_type": "code",
      "metadata": {
        "id": "2yx2GYJWUkCz",
        "colab_type": "code",
        "colab": {}
      },
      "source": [
        "# TO DO"
      ],
      "execution_count": 0,
      "outputs": []
    },
    {
      "cell_type": "markdown",
      "metadata": {
        "id": "PIDARuIDOUkD",
        "colab_type": "text"
      },
      "source": [
        "Test set performance"
      ]
    },
    {
      "cell_type": "code",
      "metadata": {
        "id": "HVcsifWpq7yO",
        "colab_type": "code",
        "outputId": "7b9190d9-6d73-47fc-f5e0-b9b58489c695",
        "colab": {
          "base_uri": "https://localhost:8080/",
          "height": 119
        }
      },
      "source": [
        "# Random Forest\n",
        "pred_rf = estimator_RF.predict(X_test)\n",
        "print('Random Forest Model Test RMSE: {:.3f}'.format(np.sqrt(mean_squared_error(y_test, pred_rf))))\n",
        "print('Random Forest R-squared value: {:.3f}'.format(r2_score(y_test, pred_rf)))\n",
        "print('\\n')\n",
        "# Gradient Boosting Method\n",
        "pred_gbm = estimator_GBM.predict(X_test)\n",
        "print('Gradient Boosting Method Test RMSE: {:.3f}'.format(np.sqrt(mean_squared_error(y_test, pred_gbm))))\n",
        "print('Gradient Boosting R-squared value: {:.3f}'.format(r2_score(y_test, pred_gbm)))\n",
        "\n",
        "# TO DO for SVR"
      ],
      "execution_count": 0,
      "outputs": [
        {
          "output_type": "stream",
          "text": [
            "Random Forest Model Test RMSE: 2.422\n",
            "Random Forest R-squared value: 0.368\n",
            "\n",
            "\n",
            "Gradient Boosting Method Test RMSE: 2.470\n",
            "Gradient Boosting R-squared value: 0.343\n"
          ],
          "name": "stdout"
        }
      ]
    },
    {
      "cell_type": "code",
      "metadata": {
        "id": "ScauymekUs12",
        "colab_type": "code",
        "outputId": "140ace24-c762-41bd-811e-79c53740f21c",
        "colab": {
          "base_uri": "https://localhost:8080/",
          "height": 295
        }
      },
      "source": [
        "# Plot of fit\n",
        "fig, ax = plt.subplots()\n",
        "ax.scatter(y_test, pred_rf)\n",
        "ax.plot([y_test.min(), y_test.max()], [y_test.min(), y_test.max()], 'k--', lw=4)\n",
        "ax.set_xlabel('Actual')\n",
        "ax.set_ylabel('Predicted')\n",
        "plt.title('Plot of fit for Random Forest')\n",
        "plt.show()"
      ],
      "execution_count": 0,
      "outputs": [
        {
          "output_type": "display_data",
          "data": {
            "image/png": "[encoded data removed]",
            "text/plain": [
              "<Figure size 432x288 with 1 Axes>"
            ]
          },
          "metadata": {
            "tags": [],
            "needs_background": "light"
          }
        }
      ]
    },
    {
      "cell_type": "markdown",
      "metadata": {
        "id": "SuYE7xRUJ1H9",
        "colab_type": "text"
      },
      "source": [
        "## Ensemble Methods\n",
        "### Voting Ensemble of RF and GBM"
      ]
    },
    {
      "cell_type": "code",
      "metadata": {
        "id": "Sr7YkQL79dxb",
        "colab_type": "code",
        "colab": {}
      },
      "source": [
        "from sklearn.ensemble import VotingRegressor\n",
        "\n",
        "# List of (string, estimator) tuples\n",
        "estimators = [('rf', estimator_RF), ('gbm', estimator_GBM)]\n",
        "\n",
        "# Build and fit an averaging classifier\n",
        "reg_avg = VotingRegressor(estimators)\n",
        "reg_avg.fit(X_train, y_train)\n",
        "cross_val_scores_vot = cross_val_score(reg_avg,X_train, y_train, cv=5, scoring=\"neg_mean_squared_error\")\n"
      ],
      "execution_count": 0,
      "outputs": []
    },
    {
      "cell_type": "code",
      "metadata": {
        "id": "dTdcJ101lmBA",
        "colab_type": "code",
        "outputId": "fe773351-7205-4b27-81bf-d00c5674fe3f",
        "colab": {
          "base_uri": "https://localhost:8080/",
          "height": 34
        }
      },
      "source": [
        "print(\"5-fold RMSE: \", np.mean(np.sqrt(np.abs(cross_val_scores_vot))))"
      ],
      "execution_count": 0,
      "outputs": [
        {
          "output_type": "stream",
          "text": [
            "5-fold RMSE:  2.594371032928154\n"
          ],
          "name": "stdout"
        }
      ]
    },
    {
      "cell_type": "code",
      "metadata": {
        "id": "-OfaTORj9vbm",
        "colab_type": "code",
        "outputId": "53fc1491-8003-4b6b-abe6-72e4551b7ae3",
        "colab": {
          "base_uri": "https://localhost:8080/",
          "height": 51
        }
      },
      "source": [
        "pred_vot = reg_avg.predict(X_test)\n",
        "print('Voting regressor Test RMSE: {:.3f}'.format(np.sqrt(mean_squared_error(y_test, pred_vot))))\n",
        "print('Voting regressor R-squared value: {:.3f}'.format(r2_score(y_test, pred_vot)))"
      ],
      "execution_count": 0,
      "outputs": [
        {
          "output_type": "stream",
          "text": [
            "Voting regressor Test RMSE: 2.498\n",
            "Voting regressor R-squared value: 0.328\n"
          ],
          "name": "stdout"
        }
      ]
    },
    {
      "cell_type": "code",
      "metadata": {
        "id": "QuuOvPvKQaV5",
        "colab_type": "code",
        "outputId": "ef5dc7fa-736f-4c1b-dd0f-006fa3df426b",
        "colab": {
          "base_uri": "https://localhost:8080/",
          "height": 295
        }
      },
      "source": [
        "fig, ax = plt.subplots()\n",
        "ax.scatter(y_test, pred_vot)\n",
        "ax.plot([y_test.min(), y_test.max()], [y_test.min(), y_test.max()], 'k--', lw=4)\n",
        "ax.set_xlabel('Actual')\n",
        "ax.set_ylabel('Predicted')\n",
        "plt.title('Plot of fit for Voting ensemble')\n",
        "plt.show()"
      ],
      "execution_count": 0,
      "outputs": [
        {
          "output_type": "display_data",
          "data": {
            "image/png": "[encoded data removed]",
            "text/plain": [
              "<Figure size 432x288 with 1 Axes>"
            ]
          },
          "metadata": {
            "tags": [],
            "needs_background": "light"
          }
        }
      ]
    },
    {
      "cell_type": "markdown",
      "metadata": {
        "id": "cJqwIyElloBC",
        "colab_type": "text"
      },
      "source": [
        "### Stack of ensembles"
      ]
    },
    {
      "cell_type": "code",
      "metadata": {
        "id": "uQ_MpIYTYvBO",
        "colab_type": "code",
        "outputId": "7d44c79c-b2cd-49dd-cdd9-68036799a641",
        "colab": {
          "base_uri": "https://localhost:8080/",
          "height": 34
        }
      },
      "source": [
        "from mlxtend.regressor import StackingRegressor\n",
        "from sklearn.svm import SVR\n",
        "from sklearn.metrics import mean_squared_error\n",
        "from sklearn.ensemble import AdaBoostRegressor\n",
        "from sklearn.linear_model import LinearRegression, Ridge, Lasso\n",
        "\n",
        "# Instantiate the 2nd-layer regressor\n",
        "reg_svr = SVR(kernel='rbf')\n",
        "reg_adb=AdaBoostRegressor()\n",
        "\n",
        "# Build the Stacking regressor\n",
        "reg_stack = StackingRegressor(regressors=[reg_svr, estimator_GBM, estimator_RF], meta_regressor=reg_adb)\n",
        "reg_stack.fit(X_train, y_train)\n",
        "\n",
        "# Evaluate the performance on the test set using the MAE metric\n",
        "pred = reg_stack.predict(X_test)\n",
        "print('Stack of Ensembles Test RMSE: {:.3f}'.format(np.sqrt(mean_squared_error(y_test, pred))))"
      ],
      "execution_count": 0,
      "outputs": [
        {
          "output_type": "stream",
          "text": [
            "Stack of Ensembles Test RMSE: 2.418\n"
          ],
          "name": "stdout"
        }
      ]
    },
    {
      "cell_type": "code",
      "metadata": {
        "id": "yB1IfgmYIw5y",
        "colab_type": "code",
        "outputId": "292ab195-4f01-48e8-f665-a491f8e91d8a",
        "colab": {
          "base_uri": "https://localhost:8080/",
          "height": 312
        }
      },
      "source": [
        "print('Stack of Ensembles R-squared value: {:.3f}'.format(r2_score(y_test, pred)))\n",
        "fig, ax = plt.subplots()\n",
        "ax.scatter(y_test, pred_vot)\n",
        "ax.plot([y_test.min(), y_test.max()], [y_test.min(), y_test.max()], 'k--', lw=4)\n",
        "ax.set_xlabel('Actual')\n",
        "ax.set_ylabel('Predicted')\n",
        "ax.set_xlim(5,16)\n",
        "plt.title('Plot of fit for Stack of ensembles')\n",
        "plt.show()"
      ],
      "execution_count": 0,
      "outputs": [
        {
          "output_type": "stream",
          "text": [
            "Stack of Ensembles R-squared value: 0.370\n"
          ],
          "name": "stdout"
        },
        {
          "output_type": "display_data",
          "data": {
            "image/png": "[encoded data removed]",
            "text/plain": [
              "<Figure size 432x288 with 1 Axes>"
            ]
          },
          "metadata": {
            "tags": [],
            "needs_background": "light"
          }
        }
      ]
    },
    {
      "cell_type": "markdown",
      "metadata": {
        "id": "uAAb2oRw1M-P",
        "colab_type": "text"
      },
      "source": [
        "## Auto-ML"
      ]
    },
    {
      "cell_type": "code",
      "metadata": {
        "id": "RiAuJ0TK_1DT",
        "colab_type": "code",
        "outputId": "49fd5f74-af7b-41fb-9469-d25b5403502c",
        "colab": {
          "base_uri": "https://localhost:8080/",
          "height": 153,
          "referenced_widgets": [
            "bf3a583422344be1a2c5879489dfb5d6",
            "815afc3732154a7ab6d3584efebda0d6",
            "85100913ca9048ec93f4657db01f5f76",
            "f911363ce74c4dbdadcbaa4ed9f4db07",
            "ab6437d4be774abb88683cf4fef770ac",
            "4d54e6ba539942adb2cd8c5f45b4ad5c",
            "2e91691e299140d180ecbfbcf995387b",
            "2b89867afd3c45caa86e2d5476f98f42"
          ]
        }
      },
      "source": [
        "from tpot import TPOTRegressor\n",
        "tpot = TPOTRegressor(generations=50, population_size=500,verbosity=2)\n",
        "tpot.fit(X_train, y_train)\n",
        "print(tpot.score(X_test, y_test))"
      ],
      "execution_count": 0,
      "outputs": [
        {
          "output_type": "display_data",
          "data": {
            "application/vnd.jupyter.widget-view+json": {
              "model_id": "bf3a583422344be1a2c5879489dfb5d6",
              "version_minor": 0,
              "version_major": 2
            },
            "text/plain": [
              "HBox(children=(IntProgress(value=0, description='Optimization Progress', max=300, style=ProgressStyle(descript…"
            ]
          },
          "metadata": {
            "tags": []
          }
        },
        {
          "output_type": "stream",
          "text": [
            "Generation 1 - Current best internal CV score: -6.75851855907501\n",
            "Generation 2 - Current best internal CV score: -6.689659236441384\n",
            "Generation 3 - Current best internal CV score: -6.689659236441384\n",
            "Generation 4 - Current best internal CV score: -6.663290848562767\n",
            "Generation 5 - Current best internal CV score: -6.663290848562767\n",
            "\n",
            "Best pipeline: RandomForestRegressor(input_matrix, bootstrap=False, max_features=0.45, min_samples_leaf=4, min_samples_split=10, n_estimators=100)\n",
            "-5.96104189586485\n"
          ],
          "name": "stdout"
        }
      ]
    },
    {
      "cell_type": "markdown",
      "metadata": {
        "id": "COxxAguBiHql",
        "colab_type": "text"
      },
      "source": [
        "### Unit Test"
      ]
    },
    {
      "cell_type": "code",
      "metadata": {
        "id": "D3wUm311iD8L",
        "colab_type": "code",
        "colab": {}
      },
      "source": [
        "# TO DO\n",
        "'''\n",
        "Need to define the input variables and their data types\n",
        "Kind Attention: Xavier\n",
        "'''\n",
        "\n",
        "# mainly checking if model can handle null input entry since we can't expect that user will have all the inputs for sure\n",
        "\n",
        "from numpy.testing import assert_equal\n",
        "from numbers import Number\n",
        "import logging\n",
        "\n",
        "def test_output(X_input):\n",
        "  '''\n",
        "  X_input: \n",
        "    Pandas DataFrame object containing input features as columns and instances as rows\n",
        "  return:\n",
        "    numeric value\n",
        "  '''\n",
        "  # define your strategy in the model wrapper function to pass the unit test\n",
        "  try:\n",
        "    estimate=estimator_RF.predict(X_input)# to be replaced with function call\n",
        "  except AssertionError:\n",
        "    logging.error(\"Model failed to predict an estimate...\", exc_info=True)\n",
        "  return estimate\n",
        "\n",
        "def test_regression_score():\n",
        "  input_entry=pd.DataFrame()\n",
        "  result=test_output('NA')\n",
        "  if isinstance(result, Number):\n",
        "    print('Passed unit test')\n",
        "  else:\n",
        "    print('Failed unit test')\n",
        "   \n",
        "test_regression_score()"
      ],
      "execution_count": 0,
      "outputs": []
    },
    {
      "cell_type": "markdown",
      "metadata": {
        "id": "E8UBjKgeULJG",
        "colab_type": "text"
      },
      "source": [
        "## Supply chain Estimation based on affected population (head count)"
      ]
    },
    {
      "cell_type": "code",
      "metadata": {
        "id": "Yp1Cag3pUJ9U",
        "colab_type": "code",
        "colab": {}
      },
      "source": [
        "# TO DO"
      ],
      "execution_count": 0,
      "outputs": []
    },
    {
      "cell_type": "markdown",
      "metadata": {
        "id": "N7394JJ1aUt1",
        "colab_type": "text"
      },
      "source": [
        "## Scope of improvement:\n",
        "* Dealing outliers\n",
        "* Exploring feature scaling impact\n",
        "* Data Augmentation either by addition or by synthetic method"
      ]
    }
  ]
}
